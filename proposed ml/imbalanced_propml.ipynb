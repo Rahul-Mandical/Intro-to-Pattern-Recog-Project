{
 "cells": [
  {
   "cell_type": "code",
   "execution_count": 1,
   "id": "398aedff",
   "metadata": {},
   "outputs": [
    {
     "name": "stdout",
     "output_type": "stream",
     "text": [
      "importing Jupyter notebook from proposed_ml_pipeline.ipynb\n"
     ]
    }
   ],
   "source": [
    "import numpy as np\n",
    "import pandas as pd\n",
    "from sklearn.model_selection import train_test_split\n",
    "from sklearn.model_selection import validation_curve\n",
    "from sklearn.model_selection import cross_val_score\n",
    "import matplotlib.pyplot as plt\n",
    "import seaborn as sns\n",
    "from keras.datasets import mnist\n",
    "from sklearn.preprocessing import scale\n",
    "import import_ipynb\n",
    "import proposed_ml_pipeline"
   ]
  },
  {
   "cell_type": "code",
   "execution_count": 2,
   "id": "a1d9ebf3",
   "metadata": {},
   "outputs": [],
   "source": [
    "(x_train_balanced, y_train_balanced), (x_test, y_test) = mnist.load_data()\n"
   ]
  },
  {
   "cell_type": "code",
   "execution_count": 3,
   "id": "95a6fdec",
   "metadata": {},
   "outputs": [],
   "source": [
    "y_train_imbalanced_asym = np.load('../datasets/y_train_imbalanced_asym.npy')\n",
    "x_train_imbalanced = np.load('../datasets/x_train_imbalanced.npy')\n",
    "y_train_imbalanced = np.load('../datasets/y_train_imbalanced.npy')\n",
    "y_train_imbalanced_sym = np.load('../datasets/y_train_imbalanced_sym.npy')\n"
   ]
  },
  {
   "cell_type": "code",
   "execution_count": 4,
   "id": "d8c03f03",
   "metadata": {},
   "outputs": [],
   "source": [
    "x_train_imbalanced = x_train_imbalanced.reshape(len(x_train_imbalanced),-1)\n",
    "x_test = x_test.reshape(len(x_test),-1)"
   ]
  },
  {
   "cell_type": "code",
   "execution_count": 5,
   "id": "3f2280b9",
   "metadata": {},
   "outputs": [],
   "source": [
    "x_train_imbalanced = x_train_imbalanced/255.0\n",
    "x_test = x_test/255.0\n",
    "\n",
    "x_train_imbalanced = scale(x_train_imbalanced)\n",
    "x_test = scale(x_test)"
   ]
  },
  {
   "cell_type": "code",
   "execution_count": 12,
   "id": "5c0fa7b4",
   "metadata": {},
   "outputs": [
    {
     "name": "stdout",
     "output_type": "stream",
     "text": [
      "Training started at : 23:39:41\n",
      "Accuracy :  0.964 \n",
      "\n",
      "Precision :  0.964 \n",
      "\n",
      "Recall :  0.964 \n",
      "\n",
      "F1 score  :  0.964 \n",
      "\n",
      "AUC score  :  0.998112054735591 \n",
      "\n",
      "Training Stopped at : 00:20:53\n",
      "Total time taken in mins:  41.18727609713872\n"
     ]
    }
   ],
   "source": [
    "proposed_ml_pipeline.proposed_svm(x_train_imbalanced,x_test,y_train_imbalanced,y_test,n_components=100,degree=3,C=5)"
   ]
  },
  {
   "cell_type": "code",
   "execution_count": 13,
   "id": "1d057f33",
   "metadata": {},
   "outputs": [
    {
     "name": "stdout",
     "output_type": "stream",
     "text": [
      "Training started at : 00:20:53\n",
      "Accuracy :  0.849 \n",
      "\n",
      "Precision :  0.849 \n",
      "\n",
      "Recall :  0.849 \n",
      "\n",
      "F1 score  :  0.849 \n",
      "\n",
      "AUC score  :  0.9718090485813196 \n",
      "\n",
      "Training Stopped at : 02:47:03\n",
      "Total time taken in mins:  146.16583493153254\n"
     ]
    }
   ],
   "source": [
    "proposed_ml_pipeline.proposed_svm(x_train_imbalanced,x_test,y_train_imbalanced_sym,y_test,n_components=100,degree=3,C=5)"
   ]
  },
  {
   "cell_type": "code",
   "execution_count": 14,
   "id": "e944853d",
   "metadata": {},
   "outputs": [
    {
     "name": "stdout",
     "output_type": "stream",
     "text": [
      "Training started at : 02:47:03\n",
      "Accuracy :  0.8733 \n",
      "\n",
      "Precision :  0.8733 \n",
      "\n",
      "Recall :  0.8733 \n",
      "\n",
      "F1 score  :  0.8733 \n",
      "\n",
      "AUC score  :  0.9875720764117064 \n",
      "\n",
      "Training Stopped at : 03:49:25\n",
      "Total time taken in mins:  62.3738019545873\n"
     ]
    }
   ],
   "source": [
    "proposed_ml_pipeline.proposed_svm(x_train_imbalanced,x_test,y_train_imbalanced_asym,y_test,n_components=100,degree=3,C=5)"
   ]
  },
  {
   "cell_type": "code",
   "execution_count": null,
   "id": "ef033863",
   "metadata": {},
   "outputs": [],
   "source": []
  }
 ],
 "metadata": {
  "kernelspec": {
   "display_name": "Python 3",
   "language": "python",
   "name": "python3"
  },
  "language_info": {
   "codemirror_mode": {
    "name": "ipython",
    "version": 3
   },
   "file_extension": ".py",
   "mimetype": "text/x-python",
   "name": "python",
   "nbconvert_exporter": "python",
   "pygments_lexer": "ipython3",
   "version": "3.8.8"
  }
 },
 "nbformat": 4,
 "nbformat_minor": 5
}

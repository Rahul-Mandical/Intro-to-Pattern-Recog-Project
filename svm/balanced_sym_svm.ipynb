{
 "cells": [
  {
   "cell_type": "code",
   "execution_count": 1,
   "id": "6980414e",
   "metadata": {},
   "outputs": [
    {
     "name": "stdout",
     "output_type": "stream",
     "text": [
      "importing Jupyter notebook from svm_pipeline.ipynb\n",
      "a\n"
     ]
    }
   ],
   "source": [
    "import numpy as np\n",
    "import pandas as pd\n",
    "from sklearn.model_selection import train_test_split\n",
    "from sklearn.model_selection import validation_curve\n",
    "from sklearn.model_selection import cross_val_score\n",
    "import matplotlib.pyplot as plt\n",
    "import seaborn as sns\n",
    "from keras.datasets import mnist\n",
    "from sklearn.preprocessing import scale\n",
    "import import_ipynb\n",
    "import svm_pipeline\n",
    "\n",
    "\n",
    "\n"
   ]
  },
  {
   "cell_type": "code",
   "execution_count": 2,
   "id": "dcc3510e",
   "metadata": {},
   "outputs": [],
   "source": [
    "(x_train_balanced, y_train_balanced), (x_test, y_test) = mnist.load_data()\n"
   ]
  },
  {
   "cell_type": "code",
   "execution_count": 3,
   "id": "670eb947",
   "metadata": {},
   "outputs": [],
   "source": [
    "y_train_balanced_sym = np.load('../datasets/y_train_balanced_sym.npy')\n"
   ]
  },
  {
   "cell_type": "code",
   "execution_count": 4,
   "id": "b4b15564",
   "metadata": {},
   "outputs": [],
   "source": [
    "#reshaping\n",
    "x_train_balanced = x_train_balanced.reshape(len(x_train_balanced),-1)\n",
    "x_test = x_test.reshape(len(x_test),-1)\n"
   ]
  },
  {
   "cell_type": "code",
   "execution_count": 5,
   "id": "533af32e",
   "metadata": {},
   "outputs": [],
   "source": [
    "x_train_balanced = x_train_balanced/255.0\n",
    "x_test = x_test/255.0\n",
    "\n",
    "x_train_balanced = scale(x_train_balanced)\n",
    "x_test = scale(x_test)"
   ]
  },
  {
   "cell_type": "code",
   "execution_count": 6,
   "id": "fe05f6eb",
   "metadata": {},
   "outputs": [
    {
     "name": "stdout",
     "output_type": "stream",
     "text": [
      "[{'C': [5], 'gamma': [0.01, 0.001]}]\n",
      "Training started at : 21:56:40\n",
      "Fitting 2 folds for each of 2 candidates, totalling 4 fits\n",
      "[CV] END ...................................C=5, gamma=0.01; total time=152.0min\n",
      "[CV] END ...................................C=5, gamma=0.01; total time=151.4min\n",
      "[CV] END ..................................C=5, gamma=0.001; total time=101.5min\n",
      "[CV] END ..................................C=5, gamma=0.001; total time=100.7min\n",
      "The best test score is 0.5611666666666666 corresponding to hyperparameters {'C': 5, 'gamma': 0.001}\n",
      "Accuracy :  0.9454 \n",
      "\n",
      "Precision :  0.9454 \n",
      "\n",
      "Recall :  0.9454 \n",
      "\n",
      "F1 score  :  0.9454 \n",
      "\n",
      "AUC score  :  0.9949012903238786 \n",
      "\n",
      "Training Stopped at : 13:31:53\n",
      "Total time taken in mins:  935.2076488097508\n"
     ]
    }
   ],
   "source": [
    "svm_pipeline.apply_svm(x_train_balanced,x_test,y_train_balanced_sym,y_test,'rbf',2,[ {'C': [5],\n",
    "              'gamma': [0.01,0.001],}])"
   ]
  },
  {
   "cell_type": "code",
   "execution_count": null,
   "id": "4876c085",
   "metadata": {},
   "outputs": [],
   "source": []
  },
  {
   "cell_type": "code",
   "execution_count": null,
   "id": "0e75e294",
   "metadata": {},
   "outputs": [],
   "source": []
  }
 ],
 "metadata": {
  "kernelspec": {
   "display_name": "Python 3",
   "language": "python",
   "name": "python3"
  },
  "language_info": {
   "codemirror_mode": {
    "name": "ipython",
    "version": 3
   },
   "file_extension": ".py",
   "mimetype": "text/x-python",
   "name": "python",
   "nbconvert_exporter": "python",
   "pygments_lexer": "ipython3",
   "version": "3.8.8"
  }
 },
 "nbformat": 4,
 "nbformat_minor": 5
}

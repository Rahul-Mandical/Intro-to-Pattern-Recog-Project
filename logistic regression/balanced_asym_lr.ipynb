{
 "cells": [
  {
   "cell_type": "code",
   "execution_count": 1,
   "id": "ae0fe9bb",
   "metadata": {},
   "outputs": [
    {
     "name": "stdout",
     "output_type": "stream",
     "text": [
      "importing Jupyter notebook from LR_function.ipynb\n"
     ]
    }
   ],
   "source": [
    "import numpy as np\n",
    "import pandas as pd\n",
    "from sklearn.model_selection import train_test_split\n",
    "from sklearn.model_selection import validation_curve\n",
    "from sklearn.model_selection import cross_val_score\n",
    "import matplotlib.pyplot as plt\n",
    "import seaborn as sns\n",
    "from keras.datasets import mnist\n",
    "from sklearn.preprocessing import scale\n",
    "import import_ipynb\n",
    "import LR_function"
   ]
  },
  {
   "cell_type": "code",
   "execution_count": 2,
   "id": "14e748e8",
   "metadata": {},
   "outputs": [],
   "source": [
    "(x_train_balanced, y_train_balanced), (x_test, y_test) = mnist.load_data()"
   ]
  },
  {
   "cell_type": "code",
   "execution_count": 3,
   "id": "0a9d6f2a",
   "metadata": {},
   "outputs": [],
   "source": [
    "y_train_balanced_asym = np.load('y_train_balanced_asym.npy')"
   ]
  },
  {
   "cell_type": "code",
   "execution_count": 4,
   "id": "bc43a15b",
   "metadata": {},
   "outputs": [],
   "source": [
    "#reshaping\n",
    "x_train_balanced = x_train_balanced.reshape(len(x_train_balanced),-1)\n",
    "x_test = x_test.reshape(len(x_test),-1)"
   ]
  },
  {
   "cell_type": "code",
   "execution_count": 5,
   "id": "f33b2aef",
   "metadata": {},
   "outputs": [],
   "source": [
    "x_train_balanced = x_train_balanced/255.0\n",
    "x_test = x_test/255.0\n",
    "\n",
    "x_train_balanced = scale(x_train_balanced)\n",
    "x_test = scale(x_test)"
   ]
  },
  {
   "cell_type": "code",
   "execution_count": 7,
   "id": "790202cf",
   "metadata": {},
   "outputs": [
    {
     "name": "stdout",
     "output_type": "stream",
     "text": [
      "Training started at : 20:13:29\n"
     ]
    },
    {
     "name": "stderr",
     "output_type": "stream",
     "text": [
      "[Parallel(n_jobs=5)]: Using backend ThreadingBackend with 5 concurrent workers.\n"
     ]
    },
    {
     "name": "stdout",
     "output_type": "stream",
     "text": [
      "convergence after 25 epochs took 110 seconds\n",
      "Accuracy :  0.8136 \n",
      "\n",
      "Precision :  0.8136 \n",
      "\n",
      "Recall :  0.8136 \n",
      "\n",
      "F1 score  :  0.8136 \n",
      "\n"
     ]
    },
    {
     "name": "stderr",
     "output_type": "stream",
     "text": [
      "[Parallel(n_jobs=5)]: Done   1 out of   1 | elapsed:  1.8min finished\n"
     ]
    },
    {
     "name": "stdout",
     "output_type": "stream",
     "text": [
      "AUC score  :  0.9794982870276863 \n",
      "\n",
      "Training Stopped at : 20:15:19\n",
      "Total time taken in mins:  1.834710423151652\n"
     ]
    }
   ],
   "source": [
    "LR_function.apply_LR(x_train_balanced,x_test,y_train_balanced_asym,y_test)\n",
    "              "
   ]
  },
  {
   "cell_type": "code",
   "execution_count": null,
   "id": "4cc29200",
   "metadata": {},
   "outputs": [],
   "source": []
  }
 ],
 "metadata": {
  "kernelspec": {
   "display_name": "Python 3 (ipykernel)",
   "language": "python",
   "name": "python3"
  },
  "language_info": {
   "codemirror_mode": {
    "name": "ipython",
    "version": 3
   },
   "file_extension": ".py",
   "mimetype": "text/x-python",
   "name": "python",
   "nbconvert_exporter": "python",
   "pygments_lexer": "ipython3",
   "version": "3.7.4"
  }
 },
 "nbformat": 4,
 "nbformat_minor": 5
}

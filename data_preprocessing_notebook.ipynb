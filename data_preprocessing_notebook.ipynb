{
 "cells": [
  {
   "cell_type": "code",
   "execution_count": 1,
   "metadata": {},
   "outputs": [],
   "source": [
    "import tensorflow as tf \n",
    "import numpy as np \n",
    "import random\n",
    "\n",
    "(X_train, Y_train), (X_val, Y_val) = tf.keras.datasets.mnist.load_data()"
   ]
  },
  {
   "cell_type": "code",
   "execution_count": 10,
   "metadata": {},
   "outputs": [],
   "source": [
    "def check_class_distribution(y_train):\n",
    "    class_frq = {}\n",
    "    for val in y_train:\n",
    "        if class_frq.get(val) is not None:\n",
    "            class_frq[val] = class_frq.get(val) +1\n",
    "        else:\n",
    "            class_frq[val] = 1\n",
    "    class_frq\n",
    "    \n",
    "    return class_frq"
   ]
  },
  {
   "cell_type": "code",
   "execution_count": 11,
   "metadata": {},
   "outputs": [
    {
     "name": "stdout",
     "output_type": "stream",
     "text": [
      "Class Distribution:  {5: 5421, 0: 5923, 4: 5842, 1: 6742, 9: 5949, 2: 5958, 3: 6131, 6: 5918, 7: 6265, 8: 5851}\n"
     ]
    }
   ],
   "source": [
    "print(\"Class Distribution: \", check_class_distribution(Y_train))"
   ]
  },
  {
   "cell_type": "code",
   "execution_count": null,
   "metadata": {},
   "outputs": [],
   "source": [
    "def unbalanced_dataset(X_train, Y_train):\n",
    "    \"\"\"\n",
    "    Create an unbalanced dataset using random probability\n",
    "    \"\"\"\n",
    "    x_train = []\n",
    "    y_train = []\n",
    "    for i in range(0, len(X_train)):\n",
    "        rdm1 = random.uniform(0, 1)\n",
    "        rdm2 = random.uniform(0, 1)\n",
    "        if (Y_train[i]%2 ==0):\n",
    "            if rdm1>0.4:\n",
    "                x_train.append(X_train[i])\n",
    "                y_train.append(Y_train[i])\n",
    "        else:\n",
    "            if rdm2>0.1:\n",
    "                x_train.append(X_train[i])\n",
    "                y_train.append(Y_train[i])\n",
    "                \n",
    "    return x_train, y_train"
   ]
  },
  {
   "cell_type": "code",
   "execution_count": null,
   "metadata": {},
   "outputs": [],
   "source": [
    "x_train, y_train = unbalanced_dataset(X_train, Y_train)"
   ]
  },
  {
   "cell_type": "code",
   "execution_count": null,
   "metadata": {},
   "outputs": [],
   "source": [
    "def preprocess_data(x_train, y_train, x_val, y_val):\n",
    "    \"\"\"\n",
    "    Return nomalized X and one-hot encoded Y-label \n",
    "    \"\"\"\n",
    "    # expand new axis, channel axis \n",
    "    x_train = np.expand_dims(x_train, axis=-1)\n",
    "    # [optional]: we may need 3 channel (instead of 1)\n",
    "    x_train = np.repeat(x_train, 3, axis=-1)\n",
    "    # it's always better to normalize \n",
    "    x_train = x_train.astype('float32') / 255\n",
    "    # resize the input shape , i.e. old shape: 28, new shape: 32\n",
    "    x_train = tf.image.resize(x_train, [32,32]) # if we want to resize \n",
    "    \n",
    "    x_val = np.expand_dims(x_val, axis=-1)\n",
    "    x_val = np.repeat(x_val, 3, axis=-1)\n",
    "    x_val = x_val.astype('float32') / 255\n",
    "    x_val = tf.image.resize(x_val, [32,32]) # if we want to resize \n",
    "    \n",
    "    # one hot \n",
    "    y_train = tf.keras.utils.to_categorical(y_train , num_classes=10)\n",
    "    y_val = tf.keras.utils.to_categorical(y_val , num_classes=10)\n",
    "\n",
    "    return x_train, y_train, x_val, y_val"
   ]
  },
  {
   "cell_type": "code",
   "execution_count": null,
   "metadata": {},
   "outputs": [],
   "source": []
  }
 ],
 "metadata": {
  "kernelspec": {
   "display_name": "Python 3",
   "language": "python",
   "name": "python3"
  },
  "language_info": {
   "codemirror_mode": {
    "name": "ipython",
    "version": 3
   },
   "file_extension": ".py",
   "mimetype": "text/x-python",
   "name": "python",
   "nbconvert_exporter": "python",
   "pygments_lexer": "ipython3",
   "version": "3.8.5"
  }
 },
 "nbformat": 4,
 "nbformat_minor": 4
}

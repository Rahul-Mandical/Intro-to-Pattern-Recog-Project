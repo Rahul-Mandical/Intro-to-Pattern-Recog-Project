{
 "cells": [
  {
   "cell_type": "code",
   "execution_count": 1,
   "id": "ddb14bee",
   "metadata": {},
   "outputs": [],
   "source": [
    "\n",
    "import tensorflow as tf \n",
    "import numpy as np \n",
    "import random\n",
    "import matplotlib.pyplot as plt\n",
    "import seaborn as sns\n",
    "import pandas as pd\n",
    "import os\n"
   ]
  },
  {
   "cell_type": "code",
   "execution_count": 2,
   "id": "3db74bdf",
   "metadata": {},
   "outputs": [],
   "source": [
    "(x_train_balanced, y_train_balanced), (x_test_balanced, y_test_balanced) = tf.keras.datasets.mnist.load_data()"
   ]
  },
  {
   "cell_type": "code",
   "execution_count": 3,
   "id": "9e8ef2c2",
   "metadata": {},
   "outputs": [
    {
     "data": {
      "text/plain": [
       "Text(0.5, 1.0, 'Number of digit classes')"
      ]
     },
     "execution_count": 3,
     "metadata": {},
     "output_type": "execute_result"
    },
    {
     "data": {
      "image/png": "[encoded data removed]",
      "text/plain": [
       "<Figure size 432x288 with 1 Axes>"
      ]
     },
     "metadata": {
      "needs_background": "light"
     },
     "output_type": "display_data"
    }
   ],
   "source": [
    "plt.plot(figure = (16,10))\n",
    "g = sns.countplot(x=y_train_balanced, palette = 'icefire')\n",
    "plt.title('Number of digit classes')\n"
   ]
  },
  {
   "cell_type": "markdown",
   "id": "853955c7",
   "metadata": {},
   "source": [
    "## Unblanced : "
   ]
  },
  {
   "cell_type": "code",
   "execution_count": 4,
   "id": "1c6fa377",
   "metadata": {},
   "outputs": [],
   "source": [
    "def check_class_distribution(y_train):\n",
    "    class_frq = {}\n",
    "    for val in y_train:\n",
    "        if class_frq.get(val) is not None:\n",
    "            class_frq[val] = class_frq.get(val) +1\n",
    "        else:\n",
    "            class_frq[val] = 1\n",
    "    class_frq\n",
    "    \n",
    "    return class_frq"
   ]
  },
  {
   "cell_type": "code",
   "execution_count": 5,
   "id": "cb4e0103",
   "metadata": {},
   "outputs": [
    {
     "name": "stdout",
     "output_type": "stream",
     "text": [
      "Class Distribution:  {5: 5421, 0: 5923, 4: 5842, 1: 6742, 9: 5949, 2: 5958, 3: 6131, 6: 5918, 7: 6265, 8: 5851}\n"
     ]
    }
   ],
   "source": [
    "print(\"Class Distribution: \", check_class_distribution(y_train_balanced))\n"
   ]
  },
  {
   "cell_type": "code",
   "execution_count": 6,
   "id": "19aceee6",
   "metadata": {},
   "outputs": [],
   "source": [
    "def unbalanced_dataset(X_train, Y_train):\n",
    "    \"\"\"\n",
    "    Create an unbalanced dataset using random probability\n",
    "    \"\"\"\n",
    "    x_train = []\n",
    "    y_train = []\n",
    "    for i in range(0, len(X_train)):\n",
    "        rdm1 = random.uniform(0, 1)\n",
    "        rdm2 = random.uniform(0, 1)\n",
    "        if (Y_train[i]%2 ==0):\n",
    "            if rdm1>0.6:\n",
    "                x_train.append(X_train[i])\n",
    "                y_train.append(Y_train[i])\n",
    "        else:\n",
    "            if rdm2>0.2:\n",
    "                x_train.append(X_train[i])\n",
    "                y_train.append(Y_train[i])\n",
    "                \n",
    "    return np.array(x_train),np.array(y_train)"
   ]
  },
  {
   "cell_type": "code",
   "execution_count": 7,
   "id": "692b1ddc",
   "metadata": {},
   "outputs": [],
   "source": [
    "x_train_imbalanced, y_train_imbalanced = unbalanced_dataset(x_train_balanced, y_train_balanced)\n"
   ]
  },
  {
   "cell_type": "code",
   "execution_count": 8,
   "id": "afedf58b",
   "metadata": {},
   "outputs": [
    {
     "name": "stdout",
     "output_type": "stream",
     "text": [
      "Class Distribution:  {5: 4378, 0: 2385, 4: 2384, 1: 5387, 9: 4738, 3: 4931, 7: 4999, 8: 2353, 6: 2401, 2: 2388}\n"
     ]
    }
   ],
   "source": [
    "print(\"Class Distribution: \", check_class_distribution(y_train_imbalanced))\n"
   ]
  },
  {
   "cell_type": "code",
   "execution_count": 9,
   "id": "d11c50d2",
   "metadata": {},
   "outputs": [
    {
     "data": {
      "text/plain": [
       "Text(0.5, 1.0, 'Number of digit classes')"
      ]
     },
     "execution_count": 9,
     "metadata": {},
     "output_type": "execute_result"
    },
    {
     "data": {
      "image/png": "[encoded data removed]",
      "text/plain": [
       "<Figure size 432x288 with 1 Axes>"
      ]
     },
     "metadata": {
      "needs_background": "light"
     },
     "output_type": "display_data"
    }
   ],
   "source": [
    "plt.plot(figure = (16,10))\n",
    "g = sns.countplot(x=y_train_imbalanced, palette = 'icefire')\n",
    "plt.title('Number of digit classes')\n"
   ]
  },
  {
   "cell_type": "code",
   "execution_count": 10,
   "id": "640173a4",
   "metadata": {},
   "outputs": [],
   "source": [
    "def other_class(n_classes, current_class):\n",
    "    \"\"\"\n",
    "    Returns a list of class indices excluding the class indexed by class_ind\n",
    "    :param nb_classes: number of classes in the task\n",
    "    :param class_ind: the class index to be omitted\n",
    "    :return: one random class that != class_ind\n",
    "    \"\"\"\n",
    "    if current_class < 0 or current_class >= n_classes:\n",
    "        error_str = \"class_ind must be within the range (0, nb_classes - 1)\"\n",
    "        raise ValueError(error_str)\n",
    "\n",
    "    other_class_list = list(range(n_classes))\n",
    "    other_class_list.remove(current_class)\n",
    "    other_class = np.random.choice(other_class_list)\n",
    "    return other_class\n"
   ]
  },
  {
   "cell_type": "code",
   "execution_count": 11,
   "id": "2182dda2",
   "metadata": {},
   "outputs": [],
   "source": [
    "def add_noise(y_train_org, noise_ratio=0, asym=False):\n",
    "    \"\"\"\n",
    "    Get training images with specified ratio of syn/ayn label noise\n",
    "    \"\"\"\n",
    "\n",
    "    y_train = np.copy(y_train_org)\n",
    "    y_train_clean = np.copy(y_train)    \n",
    "    # generate random noisy labels\n",
    "    if noise_ratio > 0:\n",
    "        if asym:\n",
    "                # 1 < - 7, 2 -> 7, 3 -> 8, 5 <-> 6\n",
    "                source_class = [7, 2, 3, 5, 6]\n",
    "                target_class = [1, 7, 8, 6, 5]\n",
    "                for s, t in zip(source_class, target_class):\n",
    "                    cls_idx = np.where(y_train_clean == s)[0]\n",
    "                    n_noisy = int(noise_ratio * cls_idx.shape[0] / 100)\n",
    "                    noisy_sample_index = np.random.choice(cls_idx, n_noisy, replace=False)\n",
    "                    y_train[noisy_sample_index] = t\n",
    "\n",
    "        else:\n",
    "            n_samples = y_train.shape[0]\n",
    "            n_noisy = int(noise_ratio * n_samples / 100)\n",
    "            class_index = [np.where(y_train_clean == i)[0] for i in range(10)]\n",
    "            class_noisy = int(n_noisy / 10)\n",
    "\n",
    "            noisy_idx = []\n",
    "            for d in range(10):\n",
    "                noisy_class_index = np.random.choice(class_index[d], class_noisy, replace=False)\n",
    "                noisy_idx.extend(noisy_class_index)\n",
    "\n",
    "            for i in noisy_idx:\n",
    "                y_train[i] = other_class(n_classes=10, current_class=y_train[i])\n",
    "\n",
    "\n",
    "        # print statistics\n",
    "        print(\"Noisy label generation statistics:\")\n",
    "        for i in range(10):\n",
    "            n_noisy = np.sum(y_train == i)\n",
    "            print(\"Noisy class %s, has %s samples.\" % (i, n_noisy))\n",
    "            \n",
    "        print('shape: ',y_train.shape)\n",
    "        return y_train\n"
   ]
  },
  {
   "cell_type": "code",
   "execution_count": 12,
   "id": "af8d8f62",
   "metadata": {},
   "outputs": [
    {
     "name": "stdout",
     "output_type": "stream",
     "text": [
      "Noisy label generation statistics:\n",
      "Noisy class 0, has 5950 samples.\n",
      "Noisy class 1, has 6674 samples.\n",
      "Noisy class 2, has 5995 samples.\n",
      "Noisy class 3, has 6123 samples.\n",
      "Noisy class 4, has 5823 samples.\n",
      "Noisy class 5, has 5441 samples.\n",
      "Noisy class 6, has 5890 samples.\n",
      "Noisy class 7, has 6220 samples.\n",
      "Noisy class 8, has 5846 samples.\n",
      "Noisy class 9, has 6038 samples.\n",
      "shape:  (60000,)\n"
     ]
    }
   ],
   "source": [
    "y_train_balanced_sym=add_noise(y_train_balanced, noise_ratio=40, asym=False)"
   ]
  },
  {
   "cell_type": "code",
   "execution_count": 13,
   "id": "a5d55151",
   "metadata": {},
   "outputs": [
    {
     "name": "stdout",
     "output_type": "stream",
     "text": [
      "Noisy label generation statistics:\n",
      "Noisy class 0, has 2364 samples.\n",
      "Noisy class 1, has 5407 samples.\n",
      "Noisy class 2, has 2362 samples.\n",
      "Noisy class 3, has 4947 samples.\n",
      "Noisy class 4, has 2322 samples.\n",
      "Noisy class 5, has 4386 samples.\n",
      "Noisy class 6, has 2409 samples.\n",
      "Noisy class 7, has 5048 samples.\n",
      "Noisy class 8, has 2359 samples.\n",
      "Noisy class 9, has 4740 samples.\n",
      "shape:  (36344,)\n"
     ]
    }
   ],
   "source": [
    "y_train_imbalanced_sym=add_noise(y_train_imbalanced, noise_ratio=40, asym=False)"
   ]
  },
  {
   "cell_type": "code",
   "execution_count": 14,
   "id": "fa874dc4",
   "metadata": {},
   "outputs": [
    {
     "name": "stdout",
     "output_type": "stream",
     "text": [
      "Noisy label generation statistics:\n",
      "Noisy class 0, has 5923 samples.\n",
      "Noisy class 1, has 9248 samples.\n",
      "Noisy class 2, has 3575 samples.\n",
      "Noisy class 3, has 3679 samples.\n",
      "Noisy class 4, has 5842 samples.\n",
      "Noisy class 5, has 5620 samples.\n",
      "Noisy class 6, has 5719 samples.\n",
      "Noisy class 7, has 6142 samples.\n",
      "Noisy class 8, has 8303 samples.\n",
      "Noisy class 9, has 5949 samples.\n",
      "shape:  (60000,)\n"
     ]
    }
   ],
   "source": [
    "y_train_balanced_asym=add_noise(y_train_balanced, noise_ratio=40, asym=True)"
   ]
  },
  {
   "cell_type": "code",
   "execution_count": 15,
   "id": "aebb3791",
   "metadata": {},
   "outputs": [
    {
     "name": "stdout",
     "output_type": "stream",
     "text": [
      "Noisy label generation statistics:\n",
      "Noisy class 0, has 2385 samples.\n",
      "Noisy class 1, has 7386 samples.\n",
      "Noisy class 2, has 1433 samples.\n",
      "Noisy class 3, has 2959 samples.\n",
      "Noisy class 4, has 2384 samples.\n",
      "Noisy class 5, has 3587 samples.\n",
      "Noisy class 6, has 3192 samples.\n",
      "Noisy class 7, has 3955 samples.\n",
      "Noisy class 8, has 4325 samples.\n",
      "Noisy class 9, has 4738 samples.\n",
      "shape:  (36344,)\n"
     ]
    }
   ],
   "source": [
    "y_train_imbalanced_asym=add_noise(y_train_imbalanced, noise_ratio=40, asym=True)"
   ]
  },
  {
   "cell_type": "code",
   "execution_count": 18,
   "id": "c2ffd84c",
   "metadata": {},
   "outputs": [
    {
     "data": {
      "text/plain": [
       "'\\n\\nnp.save(\"y_train_balanced_sym\", y_train_balanced_sym, allow_pickle=False)\\nnp.save(\"y_train_imbalanced_sym\", y_train_imbalanced_sym, allow_pickle=False)\\nnp.save(\"y_train_balanced_asym\", y_train_balanced_asym, allow_pickle=False)\\nnp.save(\"y_train_imbalanced_asym\", y_train_imbalanced_asym, allow_pickle=False)\\nnp.save(\"x_train_imbalanced\", x_train_imbalanced, allow_pickle=False)\\nnp.save(\"y_train_imbalanced\", y_train_imbalanced, allow_pickle=False)\\n\\n\\n\\n\\n'"
      ]
     },
     "execution_count": 18,
     "metadata": {},
     "output_type": "execute_result"
    }
   ],
   "source": [
    "\n",
    "\n",
    "\n",
    "\n",
    "\"\"\"\n",
    "\n",
    "np.save(\"y_train_balanced_sym\", y_train_balanced_sym, allow_pickle=False)\n",
    "np.save(\"y_train_imbalanced_sym\", y_train_imbalanced_sym, allow_pickle=False)\n",
    "np.save(\"y_train_balanced_asym\", y_train_balanced_asym, allow_pickle=False)\n",
    "np.save(\"y_train_imbalanced_asym\", y_train_imbalanced_asym, allow_pickle=False)\n",
    "np.save(\"x_train_imbalanced\", x_train_imbalanced, allow_pickle=False)\n",
    "np.save(\"y_train_imbalanced\", y_train_imbalanced, allow_pickle=False)\n",
    "\n",
    "\n",
    "\n",
    "\n",
    "\"\"\"\n",
    "\n"
   ]
  },
  {
   "cell_type": "code",
   "execution_count": null,
   "id": "673e84f3",
   "metadata": {},
   "outputs": [],
   "source": []
  },
  {
   "cell_type": "code",
   "execution_count": null,
   "id": "a1c85498",
   "metadata": {},
   "outputs": [],
   "source": []
  }
 ],
 "metadata": {
  "kernelspec": {
   "display_name": "Python 3 (ipykernel)",
   "language": "python",
   "name": "python3"
  },
  "language_info": {
   "codemirror_mode": {
    "name": "ipython",
    "version": 3
   },
   "file_extension": ".py",
   "mimetype": "text/x-python",
   "name": "python",
   "nbconvert_exporter": "python",
   "pygments_lexer": "ipython3",
   "version": "3.8.11"
  }
 },
 "nbformat": 4,
 "nbformat_minor": 5
}

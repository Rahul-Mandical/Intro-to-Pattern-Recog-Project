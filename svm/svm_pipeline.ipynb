{
 "cells": [
  {
   "cell_type": "code",
   "execution_count": 10,
   "id": "63524f20",
   "metadata": {},
   "outputs": [],
   "source": [
    "\n",
    "from sklearn.svm import SVC\n",
    "from sklearn import metrics\n",
    "from sklearn.model_selection import KFold\n",
    "from sklearn.model_selection import GridSearchCV\n",
    "import time\n",
    "\n",
    "\n"
   ]
  },
  {
   "cell_type": "code",
   "execution_count": 11,
   "id": "4225c810",
   "metadata": {},
   "outputs": [],
   "source": [
    "def apply_svm(x_train,x_test,y_train,y_test,kernel,split_folds, hyperparams=False):\n",
    "    \n",
    "    folds = KFold(n_splits = split_folds, shuffle = True, random_state = 10)\n",
    "\n",
    "    hyper_params_rbf = [ {'C': [5,10],\n",
    "              'gamma': [0.01,0.001,0.0001],}]\n",
    "    \n",
    "    hyper_params_poly = [ {'C': [1,5,10],\n",
    "              'degree': [1,3,5,7,9],}]\n",
    "    \n",
    "\n",
    "    \n",
    "    if(hyperparams):\n",
    "        hyper_params_rbf = hyperparams          \n",
    "        hyper_params_poly = hyperparams\n",
    "        \n",
    "        \n",
    "    \n",
    "        \n",
    "    print(hyper_params_rbf if kernel=='rbf' else hyper_params_poly)\n",
    "    \n",
    "    print('Training started at : ' +  time.strftime(\"%H:%M:%S\", time.localtime()))\n",
    "    t1 = time.time()\n",
    "\n",
    "\n",
    "    # specify model\n",
    "    model = SVC(kernel=kernel,probability=True)\n",
    "\n",
    "    # set up GridSearchCV()\n",
    "    model_cv = GridSearchCV(estimator = model,\n",
    "                        param_grid = hyper_params_rbf if kernel=='rbf' else hyper_params_poly, \n",
    "                        scoring= 'accuracy', \n",
    "                        cv = folds, \n",
    "                        verbose = 2,\n",
    "                        return_train_score=True)      \n",
    "\n",
    "    # fit the model\n",
    "    model_cv.fit(x_train, y_train)\n",
    "    \n",
    "    best_score = model_cv.best_score_\n",
    "    best_hyperparams = model_cv.best_params_\n",
    "\n",
    "    print(\"The best test score is {0} corresponding to hyperparameters {1}\".format(best_score, best_hyperparams))\n",
    "   \n",
    "    \n",
    "    \"\"\"\n",
    "    # model with optimal hyperparameters\n",
    "    \n",
    "    if(kernel == 'poly'):\n",
    "         model = SVC(C=best_hyperparams['C'], degree=best_hyperparams['degree'], kernel=kernel)\n",
    "    else:\n",
    "         model = SVC(C=best_hyperparams['C'], gamma=best_hyperparams['gamma'], kernel=kernel)\n",
    "        \n",
    "   \n",
    "    print(best_hyperparams['C'], best_hyperparams['degree'])\n",
    "    model.fit(x_train, y_train)\n",
    "    y_pred = model.predict(x_test)\n",
    "    \n",
    "    \"\"\"\n",
    "    y_pred = model_cv.predict(x_test)\n",
    "    y_pred_prob =  model_cv.predict_proba(x_test)\n",
    "\n",
    "\n",
    "\n",
    "\n",
    "    print(\"Accuracy : \", metrics.accuracy_score(y_test, y_pred), \"\\n\")\n",
    "    print(\"Precision : \", metrics.precision_score(y_test, y_pred,average='micro'), \"\\n\")\n",
    "    print(\"Recall : \", metrics.recall_score(y_test, y_pred,average='micro'), \"\\n\")\n",
    "    print(\"F1 score  : \", metrics.f1_score(y_test, y_pred,average='micro'), \"\\n\")\n",
    "    print(\"AUC score  : \", metrics.roc_auc_score(y_test, y_pred_prob,multi_class=\"ovo\"), \"\\n\")\n",
    "\n",
    "\n",
    "    \n",
    "\n",
    "  \n",
    "    \n",
    "    print('Training Stopped at : ' +  time.strftime(\"%H:%M:%S\", time.localtime()))\n",
    "    t2 = time.time()\n",
    "    \n",
    "    print('Total time taken in mins: ',(t2-t1)/60)\n",
    "    \n",
    "\n",
    "    "
   ]
  },
  {
   "cell_type": "code",
   "execution_count": 9,
   "id": "e3cf98e3",
   "metadata": {},
   "outputs": [
    {
     "name": "stdout",
     "output_type": "stream",
     "text": [
      "a\n"
     ]
    }
   ],
   "source": [
    "print('a')"
   ]
  },
  {
   "cell_type": "code",
   "execution_count": null,
   "id": "98847091",
   "metadata": {},
   "outputs": [],
   "source": []
  },
  {
   "cell_type": "code",
   "execution_count": null,
   "id": "90cbca98",
   "metadata": {},
   "outputs": [],
   "source": []
  }
 ],
 "metadata": {
  "kernelspec": {
   "display_name": "Python 3",
   "language": "python",
   "name": "python3"
  },
  "language_info": {
   "codemirror_mode": {
    "name": "ipython",
    "version": 3
   },
   "file_extension": ".py",
   "mimetype": "text/x-python",
   "name": "python",
   "nbconvert_exporter": "python",
   "pygments_lexer": "ipython3",
   "version": "3.8.8"
  }
 },
 "nbformat": 4,
 "nbformat_minor": 5
}

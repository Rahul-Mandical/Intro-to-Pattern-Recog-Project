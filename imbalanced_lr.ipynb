{
 "cells": [
  {
   "cell_type": "code",
   "execution_count": 1,
   "id": "75ac24cd",
   "metadata": {},
   "outputs": [
    {
     "name": "stdout",
     "output_type": "stream",
     "text": [
      "importing Jupyter notebook from LR_function.ipynb\n"
     ]
    }
   ],
   "source": [
    "import numpy as np\n",
    "import pandas as pd\n",
    "from sklearn.model_selection import train_test_split\n",
    "from sklearn.model_selection import validation_curve\n",
    "from sklearn.model_selection import cross_val_score\n",
    "import matplotlib.pyplot as plt\n",
    "import seaborn as sns\n",
    "from keras.datasets import mnist\n",
    "from sklearn.preprocessing import scale\n",
    "import import_ipynb\n",
    "import LR_function\n",
    "from sklearn.utils.class_weight import compute_class_weight"
   ]
  },
  {
   "cell_type": "code",
   "execution_count": 2,
   "id": "06950329",
   "metadata": {},
   "outputs": [],
   "source": [
    "(x_train_balanced, y_train_balanced), (x_test, y_test) = mnist.load_data()"
   ]
  },
  {
   "cell_type": "code",
   "execution_count": 3,
   "id": "9b228e01",
   "metadata": {},
   "outputs": [],
   "source": [
    "x_train_imbalanced = np.load('x_train_imbalanced.npy')\n",
    "y_train_imbalanced = np.load('y_train_imbalanced.npy')"
   ]
  },
  {
   "cell_type": "code",
   "execution_count": 4,
   "id": "74dc9900",
   "metadata": {},
   "outputs": [],
   "source": [
    "#reshaping\n",
    "x_train_imbalanced = x_train_imbalanced.reshape(len(x_train_imbalanced),-1)\n",
    "x_test = x_test.reshape(len(x_test),-1)"
   ]
  },
  {
   "cell_type": "code",
   "execution_count": 5,
   "id": "6e8e246e",
   "metadata": {},
   "outputs": [],
   "source": [
    "x_train_imbalanced = x_train_imbalanced/255.0\n",
    "x_test = x_test/255.0\n",
    "\n",
    "x_train_imbalanced = scale(x_train_imbalanced)\n",
    "x_test = scale(x_test)"
   ]
  },
  {
   "cell_type": "code",
   "execution_count": 6,
   "id": "9dfff271",
   "metadata": {},
   "outputs": [],
   "source": [
    "y = y_train_imbalanced"
   ]
  },
  {
   "cell_type": "code",
   "execution_count": 7,
   "id": "9ea8db19",
   "metadata": {},
   "outputs": [],
   "source": [
    "weights = {0:1.0, 1:1.0}\n"
   ]
  },
  {
   "cell_type": "code",
   "execution_count": 8,
   "id": "06dd27c8",
   "metadata": {},
   "outputs": [
    {
     "name": "stdout",
     "output_type": "stream",
     "text": [
      "Training started at : 20:15:25\n"
     ]
    },
    {
     "name": "stderr",
     "output_type": "stream",
     "text": [
      "[Parallel(n_jobs=5)]: Using backend ThreadingBackend with 5 concurrent workers.\n"
     ]
    },
    {
     "name": "stdout",
     "output_type": "stream",
     "text": [
      "convergence after 34 epochs took 131 seconds\n",
      "Accuracy :  0.8964 \n",
      "\n",
      "Precision :  0.8964 \n",
      "\n",
      "Recall :  0.8964 \n",
      "\n",
      "F1 score  :  0.8964 \n",
      "\n",
      "AUC score  :  0.9917518969021922 \n",
      "\n",
      "Training Stopped at : 20:17:36\n",
      "Total time taken in mins:  2.1847344120343526\n"
     ]
    },
    {
     "name": "stderr",
     "output_type": "stream",
     "text": [
      "[Parallel(n_jobs=5)]: Done   1 out of   1 | elapsed:  2.2min finished\n"
     ]
    }
   ],
   "source": [
    "LR_function.apply_LR(x_train_imbalanced,x_test,y_train_imbalanced,y_test)"
   ]
  },
  {
   "cell_type": "code",
   "execution_count": null,
   "id": "58fae6a9",
   "metadata": {},
   "outputs": [],
   "source": []
  }
 ],
 "metadata": {
  "kernelspec": {
   "display_name": "Python 3 (ipykernel)",
   "language": "python",
   "name": "python3"
  },
  "language_info": {
   "codemirror_mode": {
    "name": "ipython",
    "version": 3
   },
   "file_extension": ".py",
   "mimetype": "text/x-python",
   "name": "python",
   "nbconvert_exporter": "python",
   "pygments_lexer": "ipython3",
   "version": "3.7.4"
  }
 },
 "nbformat": 4,
 "nbformat_minor": 5
}

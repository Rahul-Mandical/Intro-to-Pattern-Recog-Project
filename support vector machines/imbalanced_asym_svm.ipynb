{
 "cells": [
  {
   "cell_type": "code",
   "execution_count": 1,
   "id": "6980414e",
   "metadata": {},
   "outputs": [
    {
     "name": "stdout",
     "output_type": "stream",
     "text": [
      "importing Jupyter notebook from svm_pipeline.ipynb\n",
      "a\n"
     ]
    }
   ],
   "source": [
    "import numpy as np\n",
    "import pandas as pd\n",
    "from sklearn.model_selection import train_test_split\n",
    "from sklearn.model_selection import validation_curve\n",
    "from sklearn.model_selection import cross_val_score\n",
    "import matplotlib.pyplot as plt\n",
    "import seaborn as sns\n",
    "from keras.datasets import mnist\n",
    "from sklearn.preprocessing import scale\n",
    "import import_ipynb\n",
    "import svm_pipeline\n",
    "\n",
    "\n",
    "\n"
   ]
  },
  {
   "cell_type": "code",
   "execution_count": 2,
   "id": "dcc3510e",
   "metadata": {},
   "outputs": [],
   "source": [
    "(x_train_balanced, y_train_balanced), (x_test, y_test) = mnist.load_data()\n"
   ]
  },
  {
   "cell_type": "code",
   "execution_count": 3,
   "id": "670eb947",
   "metadata": {},
   "outputs": [],
   "source": [
    "y_train_imbalanced_asym = np.load('../datasets/y_train_imbalanced_asym.npy')\n",
    "x_train_imbalanced = np.load('../datasets/x_train_imbalanced.npy')\n"
   ]
  },
  {
   "cell_type": "code",
   "execution_count": 4,
   "id": "b4b15564",
   "metadata": {},
   "outputs": [],
   "source": [
    "#reshaping\n",
    "x_train_imbalanced = x_train_imbalanced.reshape(len(x_train_imbalanced),-1)\n",
    "x_test = x_test.reshape(len(x_test),-1)\n"
   ]
  },
  {
   "cell_type": "code",
   "execution_count": 5,
   "id": "533af32e",
   "metadata": {},
   "outputs": [],
   "source": [
    "x_train_imbalanced = x_train_imbalanced/255.0\n",
    "x_test = x_test/255.0\n",
    "\n",
    "x_train_imbalanced = scale(x_train_imbalanced)\n",
    "x_test = scale(x_test)"
   ]
  },
  {
   "cell_type": "code",
   "execution_count": 6,
   "id": "fe05f6eb",
   "metadata": {},
   "outputs": [
    {
     "name": "stdout",
     "output_type": "stream",
     "text": [
      "[{'C': [1, 5], 'degree': [3]}]\n",
      "Training started at : 09:33:04\n",
      "Fitting 2 folds for each of 2 candidates, totalling 4 fits\n",
      "[CV] END ......................................C=1, degree=3; total time=25.5min\n",
      "[CV] END ......................................C=1, degree=3; total time=26.1min\n",
      "[CV] END ......................................C=5, degree=3; total time=19.8min\n",
      "[CV] END ......................................C=5, degree=3; total time=19.8min\n",
      "The best test score is 0.7324180057230905 corresponding to hyperparameters {'C': 5, 'degree': 3}\n",
      "Accuracy :  0.8438 \n",
      "\n",
      "Precision :  0.8438 \n",
      "\n",
      "Recall :  0.8438 \n",
      "\n",
      "F1 score  :  0.8438 \n",
      "\n",
      "AUC score  :  0.9863513043160441 \n",
      "\n",
      "Training Stopped at : 12:15:40\n",
      "Total time taken in mins:  162.59847145477931\n"
     ]
    }
   ],
   "source": [
    "svm_pipeline.apply_svm(x_train_imbalanced,x_test,y_train_imbalanced_asym,y_test,'poly',2,[ {'C': [1,5],\n",
    "             'degree': [3],}])\n",
    "              \n"
   ]
  },
  {
   "cell_type": "code",
   "execution_count": null,
   "id": "4876c085",
   "metadata": {},
   "outputs": [],
   "source": [
    " "
   ]
  },
  {
   "cell_type": "code",
   "execution_count": null,
   "id": "0e75e294",
   "metadata": {},
   "outputs": [],
   "source": []
  }
 ],
 "metadata": {
  "kernelspec": {
   "display_name": "Python 3",
   "language": "python",
   "name": "python3"
  },
  "language_info": {
   "codemirror_mode": {
    "name": "ipython",
    "version": 3
   },
   "file_extension": ".py",
   "mimetype": "text/x-python",
   "name": "python",
   "nbconvert_exporter": "python",
   "pygments_lexer": "ipython3",
   "version": "3.8.8"
  }
 },
 "nbformat": 4,
 "nbformat_minor": 5
}

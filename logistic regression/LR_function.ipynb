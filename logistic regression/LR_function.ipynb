{
 "cells": [
  {
   "cell_type": "code",
   "execution_count": 1,
   "id": "edaae018",
   "metadata": {},
   "outputs": [],
   "source": [
    "import tarfile\n",
    "import os\n",
    "import pandas as pd\n",
    "import numpy as np\n",
    "import random\n",
    "import matplotlib.pyplot as plt\n",
    "from sklearn.linear_model import LogisticRegression\n",
    "from sklearn.pipeline import Pipeline\n",
    "from sklearn.model_selection import GridSearchCV\n",
    "from sklearn import metrics\n",
    "\n",
    "import time"
   ]
  },
  {
   "cell_type": "code",
   "execution_count": 3,
   "id": "341eff00",
   "metadata": {},
   "outputs": [],
   "source": [
    "def apply_LR(x_train, x_test, y_train, y_test):\n",
    "\n",
    "  print('Training started at : ' +  time.strftime(\"%H:%M:%S\", time.localtime()))\n",
    "  t1 = time.time()\n",
    "\n",
    "  model = LogisticRegression(fit_intercept=True,\n",
    "                             multi_class = 'multinomial',\n",
    "                             penalty = 'elasticnet', #lasso regression\n",
    "                             l1_ratio = 0.5,\n",
    "                             solver = 'saga',\n",
    "                             max_iter = 1000,\n",
    "                             C = 50,\n",
    "                             verbose = 2, # output progress\n",
    "                             n_jobs = 5, # parallelize over 5 processes\n",
    "                             tol = 0.01,                             \n",
    "                             )\n",
    "\n",
    "  model.fit(x_train, y_train)\n",
    "  y_pred = model.predict(x_test)\n",
    "  y_pred_prob =  model.predict_proba(x_test)\n",
    "\n",
    "  print(\"Accuracy : \", metrics.accuracy_score(y_test, y_pred), \"\\n\")\n",
    "  print(\"Precision : \", metrics.precision_score(y_test, y_pred,average='micro'), \"\\n\")\n",
    "  print(\"Recall : \", metrics.recall_score(y_test, y_pred,average='micro'), \"\\n\")\n",
    "  print(\"F1 score  : \", metrics.f1_score(y_test, y_pred,average='micro'), \"\\n\")\n",
    "  print(\"AUC score  : \", metrics.roc_auc_score(y_test, y_pred_prob,multi_class=\"ovo\"), \"\\n\")\n",
    "\n",
    "  print('Training Stopped at : ' +  time.strftime(\"%H:%M:%S\", time.localtime()))\n",
    "  t2 = time.time()\n",
    "    \n",
    "  print('Total time taken in mins: ',(t2-t1)/60)"
   ]
  },
  {
   "cell_type": "code",
   "execution_count": null,
   "id": "cbef6ba1",
   "metadata": {},
   "outputs": [],
   "source": []
  }
 ],
 "metadata": {
  "kernelspec": {
   "display_name": "Python 3 (ipykernel)",
   "language": "python",
   "name": "python3"
  },
  "language_info": {
   "codemirror_mode": {
    "name": "ipython",
    "version": 3
   },
   "file_extension": ".py",
   "mimetype": "text/x-python",
   "name": "python",
   "nbconvert_exporter": "python",
   "pygments_lexer": "ipython3",
   "version": "3.7.4"
  }
 },
 "nbformat": 4,
 "nbformat_minor": 5
}

{
 "cells": [
  {
   "cell_type": "code",
   "execution_count": 1,
   "id": "398aedff",
   "metadata": {},
   "outputs": [
    {
     "name": "stdout",
     "output_type": "stream",
     "text": [
      "importing Jupyter notebook from proposed_ml_pipeline.ipynb\n"
     ]
    }
   ],
   "source": [
    "import numpy as np\n",
    "import pandas as pd\n",
    "from sklearn.model_selection import train_test_split\n",
    "from sklearn.model_selection import validation_curve\n",
    "from sklearn.model_selection import cross_val_score\n",
    "import matplotlib.pyplot as plt\n",
    "import seaborn as sns\n",
    "from keras.datasets import mnist\n",
    "from sklearn.preprocessing import scale\n",
    "import import_ipynb\n",
    "import proposed_ml_pipeline"
   ]
  },
  {
   "cell_type": "code",
   "execution_count": 2,
   "id": "a1d9ebf3",
   "metadata": {},
   "outputs": [],
   "source": [
    "(x_train_balanced, y_train_balanced), (x_test, y_test) = mnist.load_data()\n"
   ]
  },
  {
   "cell_type": "code",
   "execution_count": 3,
   "id": "95a6fdec",
   "metadata": {},
   "outputs": [],
   "source": [
    "y_train_balanced_asym = np.load('../datasets/y_train_balanced_asym.npy')\n",
    "y_train_balanced_sym = np.load('../datasets/y_train_balanced_sym.npy')\n"
   ]
  },
  {
   "cell_type": "code",
   "execution_count": 4,
   "id": "d8c03f03",
   "metadata": {},
   "outputs": [],
   "source": [
    "x_train_balanced = x_train_balanced.reshape(len(x_train_balanced),-1)\n",
    "x_test = x_test.reshape(len(x_test),-1)"
   ]
  },
  {
   "cell_type": "code",
   "execution_count": 5,
   "id": "3f2280b9",
   "metadata": {},
   "outputs": [],
   "source": [
    "x_train_balanced = x_train_balanced/255.0\n",
    "x_test = x_test/255.0\n",
    "\n",
    "x_train_balanced = scale(x_train_balanced)\n",
    "x_test = scale(x_test)"
   ]
  },
  {
   "cell_type": "code",
   "execution_count": 6,
   "id": "88262085",
   "metadata": {},
   "outputs": [
    {
     "name": "stdout",
     "output_type": "stream",
     "text": [
      "Training started at : 11:06:31\n",
      "Accuracy :  0.9738 \n",
      "\n",
      "Precision :  0.9738 \n",
      "\n",
      "Recall :  0.9738 \n",
      "\n",
      "F1 score  :  0.9738 \n",
      "\n",
      "AUC score  :  0.9990063247099942 \n",
      "\n",
      "Training Stopped at : 12:28:42\n",
      "Total time taken in mins:  82.1772829691569\n"
     ]
    }
   ],
   "source": [
    "proposed_ml_pipeline.proposed_svm(x_train_balanced,x_test,y_train_balanced,y_test,n_components=100,degree=3,C=5)"
   ]
  },
  {
   "cell_type": "code",
   "execution_count": 7,
   "id": "1d057f33",
   "metadata": {},
   "outputs": [
    {
     "name": "stdout",
     "output_type": "stream",
     "text": [
      "Training started at : 12:28:42\n",
      "Accuracy :  0.9134 \n",
      "\n",
      "Precision :  0.9134 \n",
      "\n",
      "Recall :  0.9134 \n",
      "\n",
      "F1 score  :  0.9134 \n",
      "\n",
      "AUC score  :  0.9873873500418049 \n",
      "\n",
      "Training Stopped at : 18:57:37\n",
      "Total time taken in mins:  388.9087523818016\n"
     ]
    }
   ],
   "source": [
    "proposed_ml_pipeline.proposed_svm(x_train_balanced,x_test,y_train_balanced_sym,y_test,n_components=100,degree=3,C=5)"
   ]
  },
  {
   "cell_type": "code",
   "execution_count": 8,
   "id": "e944853d",
   "metadata": {},
   "outputs": [
    {
     "name": "stdout",
     "output_type": "stream",
     "text": [
      "Training started at : 18:57:37\n",
      "Accuracy :  0.8978 \n",
      "\n",
      "Precision :  0.8978 \n",
      "\n",
      "Recall :  0.8978 \n",
      "\n",
      "F1 score  :  0.8978 \n",
      "\n",
      "AUC score  :  0.9905150869505455 \n",
      "\n",
      "Training Stopped at : 21:11:14\n",
      "Total time taken in mins:  133.61861466566722\n"
     ]
    }
   ],
   "source": [
    "proposed_ml_pipeline.proposed_svm(x_train_balanced,x_test,y_train_balanced_asym,y_test,n_components=100,degree=3,C=5)"
   ]
  },
  {
   "cell_type": "code",
   "execution_count": null,
   "id": "cfacd2b6",
   "metadata": {},
   "outputs": [],
   "source": []
  }
 ],
 "metadata": {
  "kernelspec": {
   "display_name": "Python 3",
   "language": "python",
   "name": "python3"
  },
  "language_info": {
   "codemirror_mode": {
    "name": "ipython",
    "version": 3
   },
   "file_extension": ".py",
   "mimetype": "text/x-python",
   "name": "python",
   "nbconvert_exporter": "python",
   "pygments_lexer": "ipython3",
   "version": "3.8.8"
  }
 },
 "nbformat": 4,
 "nbformat_minor": 5
}

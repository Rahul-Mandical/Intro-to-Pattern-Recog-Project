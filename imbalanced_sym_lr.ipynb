{
 "cells": [
  {
   "cell_type": "code",
   "execution_count": 1,
   "id": "51e0ec1c",
   "metadata": {},
   "outputs": [
    {
     "name": "stdout",
     "output_type": "stream",
     "text": [
      "importing Jupyter notebook from LR_function.ipynb\n"
     ]
    }
   ],
   "source": [
    "import numpy as np\n",
    "import pandas as pd\n",
    "from sklearn.model_selection import train_test_split\n",
    "from sklearn.model_selection import validation_curve\n",
    "from sklearn.model_selection import cross_val_score\n",
    "import matplotlib.pyplot as plt\n",
    "import seaborn as sns\n",
    "from keras.datasets import mnist\n",
    "from sklearn.preprocessing import scale\n",
    "import import_ipynb\n",
    "import LR_function"
   ]
  },
  {
   "cell_type": "code",
   "execution_count": 2,
   "id": "bb118d51",
   "metadata": {},
   "outputs": [],
   "source": [
    "(x_train_balanced, y_train_balanced), (x_test, y_test) = mnist.load_data()\n"
   ]
  },
  {
   "cell_type": "code",
   "execution_count": 3,
   "id": "d544bb8e",
   "metadata": {},
   "outputs": [],
   "source": [
    "y_train_imbalanced_sym = np.load('y_train_imbalanced_sym.npy')\n",
    "x_train_imbalanced = np.load('x_train_imbalanced.npy')"
   ]
  },
  {
   "cell_type": "code",
   "execution_count": 4,
   "id": "a57131ca",
   "metadata": {},
   "outputs": [],
   "source": [
    "#reshaping\n",
    "x_train_imbalanced = x_train_imbalanced.reshape(len(x_train_imbalanced),-1)\n",
    "x_test = x_test.reshape(len(x_test),-1)"
   ]
  },
  {
   "cell_type": "code",
   "execution_count": 5,
   "id": "1d1857d0",
   "metadata": {},
   "outputs": [],
   "source": [
    "x_train_imbalanced = x_train_imbalanced/255.0\n",
    "x_test = x_test/255.0\n",
    "\n",
    "x_train_imbalanced = scale(x_train_imbalanced)\n",
    "x_test = scale(x_test)"
   ]
  },
  {
   "cell_type": "code",
   "execution_count": 6,
   "id": "b4a40ad8",
   "metadata": {},
   "outputs": [
    {
     "name": "stdout",
     "output_type": "stream",
     "text": [
      "Training started at : 20:15:55\n"
     ]
    },
    {
     "name": "stderr",
     "output_type": "stream",
     "text": [
      "[Parallel(n_jobs=5)]: Using backend ThreadingBackend with 5 concurrent workers.\n"
     ]
    },
    {
     "name": "stdout",
     "output_type": "stream",
     "text": [
      "convergence after 54 epochs took 213 seconds\n",
      "Accuracy :  0.7682 \n",
      "\n",
      "Precision :  0.7682 \n",
      "\n",
      "Recall :  0.7682 \n",
      "\n",
      "F1 score  :  0.7681999999999999 \n",
      "\n"
     ]
    },
    {
     "name": "stderr",
     "output_type": "stream",
     "text": [
      "[Parallel(n_jobs=5)]: Done   1 out of   1 | elapsed:  3.5min finished\n"
     ]
    },
    {
     "name": "stdout",
     "output_type": "stream",
     "text": [
      "AUC score  :  0.9766019278134774 \n",
      "\n",
      "Training Stopped at : 20:19:28\n",
      "Total time taken in mins:  3.5507707516352336\n"
     ]
    }
   ],
   "source": [
    "LR_function.apply_LR(x_train_imbalanced,x_test,y_train_imbalanced_sym,y_test)"
   ]
  },
  {
   "cell_type": "code",
   "execution_count": null,
   "id": "8e72807a",
   "metadata": {},
   "outputs": [],
   "source": []
  }
 ],
 "metadata": {
  "kernelspec": {
   "display_name": "Python 3 (ipykernel)",
   "language": "python",
   "name": "python3"
  },
  "language_info": {
   "codemirror_mode": {
    "name": "ipython",
    "version": 3
   },
   "file_extension": ".py",
   "mimetype": "text/x-python",
   "name": "python",
   "nbconvert_exporter": "python",
   "pygments_lexer": "ipython3",
   "version": "3.7.4"
  }
 },
 "nbformat": 4,
 "nbformat_minor": 5
}

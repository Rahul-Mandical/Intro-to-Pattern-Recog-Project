{
 "cells": [
  {
   "cell_type": "code",
   "execution_count": 1,
   "id": "d1805d71",
   "metadata": {},
   "outputs": [
    {
     "name": "stdout",
     "output_type": "stream",
     "text": [
      "importing Jupyter notebook from LR_function.ipynb\n"
     ]
    }
   ],
   "source": [
    "import numpy as np\n",
    "import pandas as pd\n",
    "from sklearn.model_selection import train_test_split\n",
    "from sklearn.model_selection import validation_curve\n",
    "from sklearn.model_selection import cross_val_score\n",
    "import matplotlib.pyplot as plt\n",
    "import seaborn as sns\n",
    "from keras.datasets import mnist\n",
    "from sklearn.preprocessing import scale\n",
    "import import_ipynb\n",
    "import LR_function"
   ]
  },
  {
   "cell_type": "code",
   "execution_count": 2,
   "id": "dedbbb82",
   "metadata": {},
   "outputs": [],
   "source": [
    "(x_train_balanced, y_train_balanced), (x_test, y_test) = mnist.load_data()"
   ]
  },
  {
   "cell_type": "code",
   "execution_count": 3,
   "id": "8c3aa644",
   "metadata": {},
   "outputs": [],
   "source": [
    "y_train_imbalanced_asym = np.load('y_train_imbalanced_asym.npy')\n",
    "x_train_imbalanced = np.load('x_train_imbalanced.npy')"
   ]
  },
  {
   "cell_type": "code",
   "execution_count": 4,
   "id": "4522037a",
   "metadata": {},
   "outputs": [],
   "source": [
    "#reshaping\n",
    "x_train_imbalanced = x_train_imbalanced.reshape(len(x_train_imbalanced),-1)\n",
    "x_test = x_test.reshape(len(x_test),-1)"
   ]
  },
  {
   "cell_type": "code",
   "execution_count": 5,
   "id": "6a917735",
   "metadata": {},
   "outputs": [],
   "source": [
    "x_train_imbalanced = x_train_imbalanced/255.0\n",
    "x_test = x_test/255.0\n",
    "\n",
    "x_train_imbalanced = scale(x_train_imbalanced)\n",
    "x_test = scale(x_test)"
   ]
  },
  {
   "cell_type": "code",
   "execution_count": 6,
   "id": "2c9b4f20",
   "metadata": {},
   "outputs": [
    {
     "name": "stdout",
     "output_type": "stream",
     "text": [
      "Training started at : 20:14:55\n"
     ]
    },
    {
     "name": "stderr",
     "output_type": "stream",
     "text": [
      "[Parallel(n_jobs=5)]: Using backend ThreadingBackend with 5 concurrent workers.\n"
     ]
    },
    {
     "name": "stdout",
     "output_type": "stream",
     "text": [
      "convergence after 23 epochs took 91 seconds\n",
      "Accuracy :  0.7783 \n",
      "\n",
      "Precision :  0.7783 \n",
      "\n",
      "Recall :  0.7783 \n",
      "\n",
      "F1 score  :  0.7783000000000001 \n",
      "\n"
     ]
    },
    {
     "name": "stderr",
     "output_type": "stream",
     "text": [
      "[Parallel(n_jobs=5)]: Done   1 out of   1 | elapsed:  1.5min finished\n"
     ]
    },
    {
     "name": "stdout",
     "output_type": "stream",
     "text": [
      "AUC score  :  0.9761976369123508 \n",
      "\n",
      "Training Stopped at : 20:16:27\n",
      "Total time taken in mins:  1.522815732161204\n"
     ]
    }
   ],
   "source": [
    "LR_function.apply_LR(x_train_imbalanced,x_test,y_train_imbalanced_asym,y_test)\n",
    "              "
   ]
  },
  {
   "cell_type": "code",
   "execution_count": null,
   "id": "2f42696c",
   "metadata": {},
   "outputs": [],
   "source": []
  }
 ],
 "metadata": {
  "kernelspec": {
   "display_name": "Python 3 (ipykernel)",
   "language": "python",
   "name": "python3"
  },
  "language_info": {
   "codemirror_mode": {
    "name": "ipython",
    "version": 3
   },
   "file_extension": ".py",
   "mimetype": "text/x-python",
   "name": "python",
   "nbconvert_exporter": "python",
   "pygments_lexer": "ipython3",
   "version": "3.7.4"
  }
 },
 "nbformat": 4,
 "nbformat_minor": 5
}

{
 "cells": [
  {
   "cell_type": "code",
   "execution_count": 1,
   "id": "7d21804a",
   "metadata": {},
   "outputs": [],
   "source": [
    "import numpy as np\n",
    "import pandas as pd\n",
    "import sklearn\n",
    "from sklearn.svm import SVC\n",
    "from sklearn import metrics\n",
    "from sklearn.kernel_approximation import Nystroem\n",
    "import time\n",
    "from keras.datasets import mnist\n",
    "from sklearn.preprocessing import scale\n",
    "import warnings\n",
    "warnings.simplefilter(action='ignore', category=FutureWarning)\n"
   ]
  },
  {
   "cell_type": "code",
   "execution_count": 2,
   "id": "3b99e534",
   "metadata": {},
   "outputs": [],
   "source": [
    "def get_weights(y):\n",
    "    class_weights = sklearn.utils.class_weight.compute_class_weight('balanced', np.unique(y), y)\n",
    "\n",
    "    cw = {}\n",
    "\n",
    "    for i in range(len(class_weights)):\n",
    "        cw[i] = class_weights[i]\n",
    "        \n",
    "    return cw\n",
    "\n",
    "    \n"
   ]
  },
  {
   "cell_type": "code",
   "execution_count": 3,
   "id": "61ab295e",
   "metadata": {},
   "outputs": [],
   "source": [
    "def proposed_svm(x_train,x_test,y_train,y_test,n_components=100,degree=3,C=5):\n",
    "    \n",
    "    print('Training started at : ' +  time.strftime(\"%H:%M:%S\", time.localtime()))\n",
    "    t1 = time.time()\n",
    "\n",
    "    model_linear = SVC(kernel='poly',degree=degree,C=C,probability=True,class_weight=get_weights(y_train))\n",
    "\n",
    "\n",
    "    feature_map_nystroem = Nystroem(gamma=.2,\n",
    "                                random_state=1,\n",
    "                                n_components=n_components)\n",
    "    \n",
    "    \n",
    "    data_transformed = feature_map_nystroem.fit_transform(x_train)\n",
    "\n",
    "    model_linear.fit(x_train, y_train)\n",
    "\n",
    "    y_pred = model_linear.predict(x_test)\n",
    "\n",
    "\n",
    "    y_pred_prob =  model_linear.predict_proba(x_test)\n",
    "\n",
    "\n",
    "\n",
    "\n",
    "    print(\"Accuracy : \", metrics.accuracy_score(y_test, y_pred), \"\\n\")\n",
    "    print(\"Precision : \", metrics.precision_score(y_test, y_pred,average='micro'), \"\\n\")\n",
    "    print(\"Recall : \", metrics.recall_score(y_test, y_pred,average='micro'), \"\\n\")\n",
    "    print(\"F1 score  : \", metrics.f1_score(y_test, y_pred,average='micro'), \"\\n\")\n",
    "    print(\"AUC score  : \", metrics.roc_auc_score(y_test, y_pred_prob,multi_class=\"ovo\"), \"\\n\")\n",
    "    \n",
    "        \n",
    "    print('Training Stopped at : ' +  time.strftime(\"%H:%M:%S\", time.localtime()))\n",
    "    t2 = time.time()\n",
    "    \n",
    "    print('Total time taken in mins: ',(t2-t1)/60)\n",
    "\n",
    "\n",
    "    "
   ]
  },
  {
   "cell_type": "code",
   "execution_count": null,
   "id": "0102c4d1",
   "metadata": {},
   "outputs": [],
   "source": []
  },
  {
   "cell_type": "code",
   "execution_count": null,
   "id": "b7b0d584",
   "metadata": {},
   "outputs": [],
   "source": []
  }
 ],
 "metadata": {
  "kernelspec": {
   "display_name": "Python 3 (ipykernel)",
   "language": "python",
   "name": "python3"
  },
  "language_info": {
   "codemirror_mode": {
    "name": "ipython",
    "version": 3
   },
   "file_extension": ".py",
   "mimetype": "text/x-python",
   "name": "python",
   "nbconvert_exporter": "python",
   "pygments_lexer": "ipython3",
   "version": "3.9.7"
  }
 },
 "nbformat": 4,
 "nbformat_minor": 5
}

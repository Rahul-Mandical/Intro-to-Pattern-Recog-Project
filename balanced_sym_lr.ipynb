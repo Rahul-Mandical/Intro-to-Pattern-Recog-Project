{
 "cells": [
  {
   "cell_type": "code",
   "execution_count": 1,
   "id": "28abe5d4",
   "metadata": {},
   "outputs": [
    {
     "name": "stdout",
     "output_type": "stream",
     "text": [
      "importing Jupyter notebook from LR_function.ipynb\n"
     ]
    }
   ],
   "source": [
    "import numpy as np\n",
    "import pandas as pd\n",
    "from sklearn.model_selection import train_test_split\n",
    "\n",
    "import matplotlib.pyplot as plt\n",
    "import seaborn as sns\n",
    "from keras.datasets import mnist\n",
    "from sklearn.preprocessing import scale\n",
    "import import_ipynb\n",
    "import LR_function\n",
    "import time\n",
    "from sklearn.linear_model import LogisticRegression\n",
    "from sklearn.pipeline import Pipeline\n"
   ]
  },
  {
   "cell_type": "code",
   "execution_count": 2,
   "id": "7f8baacc",
   "metadata": {},
   "outputs": [],
   "source": [
    "(x_train_balanced, y_train_balanced), (x_test, y_test) = mnist.load_data()"
   ]
  },
  {
   "cell_type": "code",
   "execution_count": 3,
   "id": "58d675f3",
   "metadata": {},
   "outputs": [],
   "source": [
    "y_train_balanced_sym = np.load('y_train_balanced_sym.npy')"
   ]
  },
  {
   "cell_type": "code",
   "execution_count": 4,
   "id": "2d32e84c",
   "metadata": {},
   "outputs": [
    {
     "data": {
      "text/plain": [
       "(60000,)"
      ]
     },
     "execution_count": 4,
     "metadata": {},
     "output_type": "execute_result"
    }
   ],
   "source": [
    "y_train_balanced_sym.shape"
   ]
  },
  {
   "cell_type": "code",
   "execution_count": 5,
   "id": "d1f42b7e",
   "metadata": {},
   "outputs": [],
   "source": [
    "#reshaping\n",
    "x_train_balanced = x_train_balanced.reshape(len(x_train_balanced),-1)\n",
    "x_test = x_test.reshape(len(x_test),-1)"
   ]
  },
  {
   "cell_type": "code",
   "execution_count": 6,
   "id": "90b421a4",
   "metadata": {},
   "outputs": [],
   "source": [
    "x_train_balanced = x_train_balanced/255.0\n",
    "x_test = x_test/255.0\n",
    "\n",
    "x_train_balanced = scale(x_train_balanced)\n",
    "x_test = scale(x_test)"
   ]
  },
  {
   "cell_type": "code",
   "execution_count": 7,
   "id": "255e986c",
   "metadata": {},
   "outputs": [
    {
     "name": "stdout",
     "output_type": "stream",
     "text": [
      "Training started at : 20:14:23\n"
     ]
    },
    {
     "name": "stderr",
     "output_type": "stream",
     "text": [
      "[Parallel(n_jobs=5)]: Using backend ThreadingBackend with 5 concurrent workers.\n"
     ]
    },
    {
     "name": "stdout",
     "output_type": "stream",
     "text": [
      "convergence after 38 epochs took 262 seconds\n",
      "Accuracy :  0.8898 \n",
      "\n",
      "Precision :  0.8898 \n",
      "\n",
      "Recall :  0.8898 \n",
      "\n",
      "F1 score  :  0.8898 \n",
      "\n",
      "AUC score  :  0.9867615222513194 \n",
      "\n",
      "Training Stopped at : 20:18:45\n",
      "Total time taken in mins:  4.362615307172139\n"
     ]
    },
    {
     "name": "stderr",
     "output_type": "stream",
     "text": [
      "[Parallel(n_jobs=5)]: Done   1 out of   1 | elapsed:  4.4min finished\n"
     ]
    }
   ],
   "source": [
    "LR_function.apply_LR(x_train_balanced,x_test,y_train_balanced_sym,y_test)"
   ]
  },
  {
   "cell_type": "code",
   "execution_count": null,
   "id": "4d482b09",
   "metadata": {},
   "outputs": [],
   "source": []
  }
 ],
 "metadata": {
  "kernelspec": {
   "display_name": "Python 3 (ipykernel)",
   "language": "python",
   "name": "python3"
  },
  "language_info": {
   "codemirror_mode": {
    "name": "ipython",
    "version": 3
   },
   "file_extension": ".py",
   "mimetype": "text/x-python",
   "name": "python",
   "nbconvert_exporter": "python",
   "pygments_lexer": "ipython3",
   "version": "3.7.4"
  }
 },
 "nbformat": 4,
 "nbformat_minor": 5
}

{
 "cells": [
  {
   "cell_type": "code",
   "execution_count": 1,
   "id": "b6d1d2ed",
   "metadata": {},
   "outputs": [
    {
     "name": "stdout",
     "output_type": "stream",
     "text": [
      "importing Jupyter notebook from sce_pipeline.ipynb\n"
     ]
    }
   ],
   "source": [
    "import numpy as np\n",
    "import pandas as pd\n",
    "from sklearn.model_selection import train_test_split\n",
    "from sklearn.model_selection import validation_curve\n",
    "from sklearn.model_selection import cross_val_score\n",
    "import matplotlib.pyplot as plt\n",
    "import seaborn as sns\n",
    "from keras.datasets import mnist\n",
    "from sklearn.preprocessing import scale\n",
    "import import_ipynb\n",
    "import sce_pipeline\n",
    "\n",
    "\n",
    "\n"
   ]
  },
  {
   "cell_type": "code",
   "execution_count": 2,
   "id": "d3d02fc7",
   "metadata": {},
   "outputs": [
    {
     "data": {
      "text/plain": [
       "\"\\nWeird bug:\\nOnce trained , if you want to train it again and run the train cell with the same kernel , it will throw\\n\\nTypeError: 'NoneType' object is not subscriptable\\n\\nTo get rid of this , hit restart kernel and run all\\n\\nTHis is caused due to import_ipynb importing and remembering some global variable which must be dumped , thus we have access old\\ninstead of new variable, this is AN ISSUE WITH IMPORT_IPYNB.\\n\\nWORKAROUND : hit restart kernel and run all\\n\\n\""
      ]
     },
     "execution_count": 2,
     "metadata": {},
     "output_type": "execute_result"
    }
   ],
   "source": [
    "\"\"\"\n",
    "Weird bug:\n",
    "Once trained , if you want to train it again and run the train cell with the same kernel , it will throw\n",
    "\n",
    "TypeError: 'NoneType' object is not subscriptable\n",
    "\n",
    "To get rid of this , hit restart kernel and run all\n",
    "\n",
    "THis is caused due to import_ipynb importing and remembering some global variable which must be dumped , thus we have access old\n",
    "instead of new variable, this is AN ISSUE WITH IMPORT_IPYNB.\n",
    "\n",
    "WORKAROUND : hit restart kernel and run all\n",
    "\n",
    "\"\"\""
   ]
  },
  {
   "cell_type": "code",
   "execution_count": 3,
   "id": "79066b06",
   "metadata": {},
   "outputs": [
    {
     "name": "stdout",
     "output_type": "stream",
     "text": [
      "Original Shape\n",
      "X_train: (60000, 28, 28)\n",
      "Y_train: (60000,)\n",
      "X_test:  (10000, 28, 28)\n",
      "Y_test:  (10000,)\n"
     ]
    }
   ],
   "source": [
    "(x_train, y_train), (x_test, y_test) = mnist.load_data()\n",
    "print('Original Shape')\n",
    "print('X_train: ' + str(x_train.shape))\n",
    "print('Y_train: ' + str(y_train.shape))\n",
    "print('X_test:  '  + str(x_test.shape))\n",
    "print('Y_test:  '  + str(y_test.shape))\n",
    "\n"
   ]
  },
  {
   "cell_type": "code",
   "execution_count": 4,
   "id": "42296626",
   "metadata": {},
   "outputs": [],
   "source": [
    "x_train, y_train, x_test, y_test = sce_pipeline.preprocess_sce(x_train, y_train, x_test, y_test)"
   ]
  },
  {
   "cell_type": "code",
   "execution_count": 5,
   "id": "198a1def",
   "metadata": {},
   "outputs": [
    {
     "name": "stdout",
     "output_type": "stream",
     "text": [
      "Preprocessed Shape\n",
      "X_train: (60000, 28, 28, 1)\n",
      "Y_train: (60000, 10)\n",
      "X_test:  (10000, 28, 28, 1)\n",
      "Y_test:  (10000, 10)\n"
     ]
    }
   ],
   "source": [
    "print('Preprocessed Shape')\n",
    "\n",
    "print('X_train: ' + str(x_train.shape))\n",
    "print('Y_train: ' + str(y_train.shape))\n",
    "print('X_test:  '  + str(x_test.shape))\n",
    "print('Y_test:  '  + str(y_test.shape))\n"
   ]
  },
  {
   "cell_type": "code",
   "execution_count": 6,
   "id": "02fe9ca1",
   "metadata": {},
   "outputs": [
    {
     "name": "stdout",
     "output_type": "stream",
     "text": [
      "Loading Data\n",
      "n_images 60000 num_classes 10 image_shape: (28, 28, 1)\n",
      "Loading and compiling model\n",
      "Training model\n",
      "Epoch 1/120\n",
      "469/468 [==============================] - 31s 65ms/step - loss: 0.4038 - categorical_accuracy: 0.9603 - precision: 0.9658 - recall: 0.9585 - auc: 0.9934 - val_loss: 0.2447 - val_categorical_accuracy: 0.9749 - val_precision: 0.9767 - val_recall: 0.9746 - val_auc: 0.9947\n",
      "Epoch 2/120\n",
      "469/468 [==============================] - 30s 65ms/step - loss: 0.1587 - categorical_accuracy: 0.9840 - precision: 0.9844 - recall: 0.9838 - auc: 0.9964 - val_loss: 0.1813 - val_categorical_accuracy: 0.9817 - val_precision: 0.9817 - val_recall: 0.9817 - val_auc: 0.9950\n",
      "Epoch 3/120\n",
      "469/468 [==============================] - 31s 65ms/step - loss: 0.1181 - categorical_accuracy: 0.9881 - precision: 0.9882 - recall: 0.9880 - auc: 0.9973 - val_loss: 0.1311 - val_categorical_accuracy: 0.9862 - val_precision: 0.9866 - val_recall: 0.9862 - val_auc: 0.9971\n",
      "Epoch 4/120\n",
      "469/468 [==============================] - 31s 65ms/step - loss: 0.1009 - categorical_accuracy: 0.9898 - precision: 0.9899 - recall: 0.9897 - auc: 0.9975 - val_loss: 0.1268 - val_categorical_accuracy: 0.9873 - val_precision: 0.9875 - val_recall: 0.9870 - val_auc: 0.9971\n",
      "Epoch 5/120\n",
      "469/468 [==============================] - 31s 66ms/step - loss: 0.0779 - categorical_accuracy: 0.9922 - precision: 0.9922 - recall: 0.9920 - auc: 0.9981 - val_loss: 0.0984 - val_categorical_accuracy: 0.9898 - val_precision: 0.9900 - val_recall: 0.9898 - val_auc: 0.9981\n",
      "Epoch 6/120\n",
      "469/468 [==============================] - 31s 66ms/step - loss: 0.0679 - categorical_accuracy: 0.9931 - precision: 0.9932 - recall: 0.9930 - auc: 0.9983 - val_loss: 0.0939 - val_categorical_accuracy: 0.9904 - val_precision: 0.9904 - val_recall: 0.9903 - val_auc: 0.9980\n",
      "Epoch 7/120\n",
      "469/468 [==============================] - 32s 68ms/step - loss: 0.0595 - categorical_accuracy: 0.9940 - precision: 0.9940 - recall: 0.9940 - auc: 0.9984 - val_loss: 0.0960 - val_categorical_accuracy: 0.9907 - val_precision: 0.9908 - val_recall: 0.9906 - val_auc: 0.9975\n",
      "Epoch 8/120\n",
      "469/468 [==============================] - 32s 68ms/step - loss: 0.0510 - categorical_accuracy: 0.9949 - precision: 0.9950 - recall: 0.9949 - auc: 0.9987 - val_loss: 0.1003 - val_categorical_accuracy: 0.9899 - val_precision: 0.9900 - val_recall: 0.9899 - val_auc: 0.9977\n",
      "Epoch 9/120\n",
      "469/468 [==============================] - 32s 68ms/step - loss: 0.0445 - categorical_accuracy: 0.9955 - precision: 0.9956 - recall: 0.9955 - auc: 0.9987 - val_loss: 0.0940 - val_categorical_accuracy: 0.9903 - val_precision: 0.9904 - val_recall: 0.9902 - val_auc: 0.9980\n",
      "Epoch 10/120\n",
      "469/468 [==============================] - 32s 69ms/step - loss: 0.0367 - categorical_accuracy: 0.9963 - precision: 0.9963 - recall: 0.9962 - auc: 0.9989 - val_loss: 0.0853 - val_categorical_accuracy: 0.9910 - val_precision: 0.9910 - val_recall: 0.9910 - val_auc: 0.9983\n",
      "Epoch 11/120\n",
      "469/468 [==============================] - 32s 68ms/step - loss: 0.0344 - categorical_accuracy: 0.9966 - precision: 0.9966 - recall: 0.9966 - auc: 0.9990 - val_loss: 0.0822 - val_categorical_accuracy: 0.9915 - val_precision: 0.9916 - val_recall: 0.9914 - val_auc: 0.9981\n",
      "Epoch 12/120\n",
      "469/468 [==============================] - 32s 69ms/step - loss: 0.0311 - categorical_accuracy: 0.9968 - precision: 0.9968 - recall: 0.9968 - auc: 0.9991 - val_loss: 0.0792 - val_categorical_accuracy: 0.9916 - val_precision: 0.9919 - val_recall: 0.9914 - val_auc: 0.9981\n",
      "Epoch 13/120\n",
      "469/468 [==============================] - 32s 68ms/step - loss: 0.0295 - categorical_accuracy: 0.9970 - precision: 0.9970 - recall: 0.9969 - auc: 0.9991 - val_loss: 0.0850 - val_categorical_accuracy: 0.9915 - val_precision: 0.9917 - val_recall: 0.9915 - val_auc: 0.9982\n",
      "Epoch 14/120\n",
      "469/468 [==============================] - 32s 69ms/step - loss: 0.0271 - categorical_accuracy: 0.9973 - precision: 0.9973 - recall: 0.9973 - auc: 0.9992 - val_loss: 0.0800 - val_categorical_accuracy: 0.9921 - val_precision: 0.9923 - val_recall: 0.9919 - val_auc: 0.9981\n",
      "Epoch 15/120\n",
      "469/468 [==============================] - 32s 68ms/step - loss: 0.0212 - categorical_accuracy: 0.9978 - precision: 0.9979 - recall: 0.9978 - auc: 0.9992 - val_loss: 0.0644 - val_categorical_accuracy: 0.9935 - val_precision: 0.9936 - val_recall: 0.9935 - val_auc: 0.9987\n",
      "Epoch 16/120\n",
      "469/468 [==============================] - 32s 68ms/step - loss: 0.0192 - categorical_accuracy: 0.9981 - precision: 0.9981 - recall: 0.9981 - auc: 0.9992 - val_loss: 0.0713 - val_categorical_accuracy: 0.9928 - val_precision: 0.9928 - val_recall: 0.9927 - val_auc: 0.9986\n",
      "Epoch 17/120\n",
      "469/468 [==============================] - 32s 69ms/step - loss: 0.0196 - categorical_accuracy: 0.9980 - precision: 0.9980 - recall: 0.9980 - auc: 0.9992 - val_loss: 0.0673 - val_categorical_accuracy: 0.9934 - val_precision: 0.9935 - val_recall: 0.9932 - val_auc: 0.9984\n",
      "Epoch 18/120\n",
      "469/468 [==============================] - 32s 69ms/step - loss: 0.0183 - categorical_accuracy: 0.9982 - precision: 0.9982 - recall: 0.9982 - auc: 0.9993 - val_loss: 0.0776 - val_categorical_accuracy: 0.9922 - val_precision: 0.9923 - val_recall: 0.9921 - val_auc: 0.9983\n",
      "Epoch 19/120\n",
      "469/468 [==============================] - 32s 69ms/step - loss: 0.0165 - categorical_accuracy: 0.9984 - precision: 0.9984 - recall: 0.9984 - auc: 0.9993 - val_loss: 0.0698 - val_categorical_accuracy: 0.9923 - val_precision: 0.9923 - val_recall: 0.9923 - val_auc: 0.9984\n",
      "Epoch 20/120\n",
      "469/468 [==============================] - 32s 68ms/step - loss: 0.0150 - categorical_accuracy: 0.9985 - precision: 0.9985 - recall: 0.9985 - auc: 0.9993 - val_loss: 0.0730 - val_categorical_accuracy: 0.9923 - val_precision: 0.9925 - val_recall: 0.9923 - val_auc: 0.9986\n",
      "Epoch 21/120\n",
      "469/468 [==============================] - 32s 69ms/step - loss: 0.0152 - categorical_accuracy: 0.9985 - precision: 0.9985 - recall: 0.9985 - auc: 0.9993 - val_loss: 0.0700 - val_categorical_accuracy: 0.9925 - val_precision: 0.9925 - val_recall: 0.9925 - val_auc: 0.9985\n",
      "Epoch 22/120\n",
      "469/468 [==============================] - 32s 68ms/step - loss: 0.0139 - categorical_accuracy: 0.9985 - precision: 0.9985 - recall: 0.9985 - auc: 0.9993 - val_loss: 0.0667 - val_categorical_accuracy: 0.9931 - val_precision: 0.9931 - val_recall: 0.9931 - val_auc: 0.9986\n",
      "Epoch 23/120\n",
      "469/468 [==============================] - 32s 69ms/step - loss: 0.0139 - categorical_accuracy: 0.9987 - precision: 0.9987 - recall: 0.9987 - auc: 0.9993 - val_loss: 0.0608 - val_categorical_accuracy: 0.9938 - val_precision: 0.9940 - val_recall: 0.9938 - val_auc: 0.9987\n",
      "Epoch 24/120\n",
      "469/468 [==============================] - 32s 69ms/step - loss: 0.0128 - categorical_accuracy: 0.9987 - precision: 0.9987 - recall: 0.9987 - auc: 0.9994 - val_loss: 0.0635 - val_categorical_accuracy: 0.9935 - val_precision: 0.9935 - val_recall: 0.9934 - val_auc: 0.9988\n",
      "Epoch 25/120\n",
      "469/468 [==============================] - 32s 69ms/step - loss: 0.0128 - categorical_accuracy: 0.9988 - precision: 0.9988 - recall: 0.9988 - auc: 0.9994 - val_loss: 0.0674 - val_categorical_accuracy: 0.9933 - val_precision: 0.9933 - val_recall: 0.9931 - val_auc: 0.9984\n",
      "Epoch 26/120\n",
      "469/468 [==============================] - 32s 68ms/step - loss: 0.0121 - categorical_accuracy: 0.9988 - precision: 0.9988 - recall: 0.9988 - auc: 0.9994 - val_loss: 0.0597 - val_categorical_accuracy: 0.9940 - val_precision: 0.9940 - val_recall: 0.9939 - val_auc: 0.9987\n",
      "Epoch 27/120\n",
      "469/468 [==============================] - 32s 68ms/step - loss: 0.0119 - categorical_accuracy: 0.9988 - precision: 0.9988 - recall: 0.9988 - auc: 0.9994 - val_loss: 0.0739 - val_categorical_accuracy: 0.9923 - val_precision: 0.9924 - val_recall: 0.9922 - val_auc: 0.9987\n",
      "Epoch 28/120\n",
      "469/468 [==============================] - 32s 68ms/step - loss: 0.0125 - categorical_accuracy: 0.9987 - precision: 0.9987 - recall: 0.9987 - auc: 0.9994 - val_loss: 0.0635 - val_categorical_accuracy: 0.9934 - val_precision: 0.9934 - val_recall: 0.9932 - val_auc: 0.9989\n",
      "Epoch 29/120\n"
     ]
    },
    {
     "name": "stdout",
     "output_type": "stream",
     "text": [
      "469/468 [==============================] - 29s 62ms/step - loss: 0.0116 - categorical_accuracy: 0.9988 - precision: 0.9988 - recall: 0.9988 - auc: 0.9995 - val_loss: 0.0705 - val_categorical_accuracy: 0.9929 - val_precision: 0.9929 - val_recall: 0.9927 - val_auc: 0.9983\n",
      "Epoch 30/120\n",
      "469/468 [==============================] - 29s 63ms/step - loss: 0.0113 - categorical_accuracy: 0.9988 - precision: 0.9988 - recall: 0.9988 - auc: 0.9994 - val_loss: 0.0695 - val_categorical_accuracy: 0.9924 - val_precision: 0.9928 - val_recall: 0.9924 - val_auc: 0.9988\n",
      "Epoch 31/120\n",
      "469/468 [==============================] - 30s 63ms/step - loss: 0.0103 - categorical_accuracy: 0.9990 - precision: 0.9990 - recall: 0.9990 - auc: 0.9995 - val_loss: 0.0701 - val_categorical_accuracy: 0.9926 - val_precision: 0.9927 - val_recall: 0.9925 - val_auc: 0.9987\n",
      "Epoch 32/120\n",
      "469/468 [==============================] - 30s 64ms/step - loss: 0.0102 - categorical_accuracy: 0.9990 - precision: 0.9990 - recall: 0.9990 - auc: 0.9995 - val_loss: 0.0688 - val_categorical_accuracy: 0.9926 - val_precision: 0.9926 - val_recall: 0.9924 - val_auc: 0.9987\n",
      "Epoch 33/120\n",
      "469/468 [==============================] - 30s 63ms/step - loss: 0.0105 - categorical_accuracy: 0.9989 - precision: 0.9989 - recall: 0.9989 - auc: 0.9995 - val_loss: 0.0693 - val_categorical_accuracy: 0.9928 - val_precision: 0.9931 - val_recall: 0.9928 - val_auc: 0.9987\n",
      "Epoch 34/120\n",
      "469/468 [==============================] - 30s 64ms/step - loss: 0.0103 - categorical_accuracy: 0.9989 - precision: 0.9989 - recall: 0.9989 - auc: 0.9995 - val_loss: 0.0681 - val_categorical_accuracy: 0.9930 - val_precision: 0.9932 - val_recall: 0.9929 - val_auc: 0.9987\n",
      "Epoch 35/120\n",
      "469/468 [==============================] - 30s 63ms/step - loss: 0.0096 - categorical_accuracy: 0.9990 - precision: 0.9990 - recall: 0.9990 - auc: 0.9995 - val_loss: 0.0673 - val_categorical_accuracy: 0.9930 - val_precision: 0.9931 - val_recall: 0.9929 - val_auc: 0.9988\n",
      "Epoch 36/120\n",
      "469/468 [==============================] - 29s 62ms/step - loss: 0.0098 - categorical_accuracy: 0.9990 - precision: 0.9990 - recall: 0.9990 - auc: 0.9995 - val_loss: 0.0683 - val_categorical_accuracy: 0.9927 - val_precision: 0.9929 - val_recall: 0.9927 - val_auc: 0.9988\n",
      "Epoch 37/120\n",
      "469/468 [==============================] - 29s 63ms/step - loss: 0.0099 - categorical_accuracy: 0.9990 - precision: 0.9990 - recall: 0.9990 - auc: 0.9995 - val_loss: 0.0661 - val_categorical_accuracy: 0.9928 - val_precision: 0.9929 - val_recall: 0.9927 - val_auc: 0.9986\n",
      "Epoch 38/120\n",
      "469/468 [==============================] - 29s 62ms/step - loss: 0.0096 - categorical_accuracy: 0.9990 - precision: 0.9990 - recall: 0.9990 - auc: 0.9995 - val_loss: 0.0645 - val_categorical_accuracy: 0.9930 - val_precision: 0.9930 - val_recall: 0.9930 - val_auc: 0.9988\n",
      "Epoch 39/120\n",
      "469/468 [==============================] - 29s 62ms/step - loss: 0.0095 - categorical_accuracy: 0.9990 - precision: 0.9990 - recall: 0.9990 - auc: 0.9995 - val_loss: 0.0662 - val_categorical_accuracy: 0.9931 - val_precision: 0.9932 - val_recall: 0.9931 - val_auc: 0.9985\n",
      "Epoch 40/120\n",
      "469/468 [==============================] - 29s 62ms/step - loss: 0.0099 - categorical_accuracy: 0.9990 - precision: 0.9990 - recall: 0.9990 - auc: 0.9995 - val_loss: 0.0640 - val_categorical_accuracy: 0.9933 - val_precision: 0.9934 - val_recall: 0.9932 - val_auc: 0.9987\n",
      "Epoch 41/120\n",
      "469/468 [==============================] - 31s 67ms/step - loss: 0.0093 - categorical_accuracy: 0.9990 - precision: 0.9990 - recall: 0.9990 - auc: 0.9995 - val_loss: 0.0616 - val_categorical_accuracy: 0.9937 - val_precision: 0.9938 - val_recall: 0.9936 - val_auc: 0.9986\n",
      "Epoch 42/120\n",
      "469/468 [==============================] - 32s 67ms/step - loss: 0.0092 - categorical_accuracy: 0.9990 - precision: 0.9990 - recall: 0.9990 - auc: 0.9995 - val_loss: 0.0611 - val_categorical_accuracy: 0.9934 - val_precision: 0.9934 - val_recall: 0.9934 - val_auc: 0.9988\n",
      "Epoch 43/120\n",
      "469/468 [==============================] - 32s 68ms/step - loss: 0.0093 - categorical_accuracy: 0.9990 - precision: 0.9990 - recall: 0.9990 - auc: 0.9995 - val_loss: 0.0636 - val_categorical_accuracy: 0.9931 - val_precision: 0.9932 - val_recall: 0.9931 - val_auc: 0.9988\n",
      "Epoch 44/120\n",
      "469/468 [==============================] - 32s 68ms/step - loss: 0.0091 - categorical_accuracy: 0.9990 - precision: 0.9990 - recall: 0.9990 - auc: 0.9995 - val_loss: 0.0642 - val_categorical_accuracy: 0.9931 - val_precision: 0.9931 - val_recall: 0.9931 - val_auc: 0.9987\n",
      "Epoch 45/120\n",
      "469/468 [==============================] - 32s 69ms/step - loss: 0.0092 - categorical_accuracy: 0.9990 - precision: 0.9990 - recall: 0.9990 - auc: 0.9995 - val_loss: 0.0636 - val_categorical_accuracy: 0.9936 - val_precision: 0.9937 - val_recall: 0.9935 - val_auc: 0.9987\n",
      "Epoch 46/120\n",
      "469/468 [==============================] - 33s 70ms/step - loss: 0.0091 - categorical_accuracy: 0.9991 - precision: 0.9991 - recall: 0.9991 - auc: 0.9995 - val_loss: 0.0627 - val_categorical_accuracy: 0.9932 - val_precision: 0.9932 - val_recall: 0.9931 - val_auc: 0.9986\n",
      "Epoch 47/120\n",
      "469/468 [==============================] - 31s 67ms/step - loss: 0.0090 - categorical_accuracy: 0.9991 - precision: 0.9991 - recall: 0.9991 - auc: 0.9995 - val_loss: 0.0629 - val_categorical_accuracy: 0.9933 - val_precision: 0.9934 - val_recall: 0.9932 - val_auc: 0.9986\n",
      "Epoch 48/120\n",
      "469/468 [==============================] - 32s 67ms/step - loss: 0.0090 - categorical_accuracy: 0.9991 - precision: 0.9991 - recall: 0.9991 - auc: 0.9995 - val_loss: 0.0643 - val_categorical_accuracy: 0.9931 - val_precision: 0.9932 - val_recall: 0.9931 - val_auc: 0.9987\n",
      "Epoch 49/120\n",
      "469/468 [==============================] - 32s 68ms/step - loss: 0.0090 - categorical_accuracy: 0.9991 - precision: 0.9991 - recall: 0.9991 - auc: 0.9995 - val_loss: 0.0612 - val_categorical_accuracy: 0.9937 - val_precision: 0.9938 - val_recall: 0.9937 - val_auc: 0.9987\n",
      "Epoch 50/120\n",
      "469/468 [==============================] - 32s 68ms/step - loss: 0.0090 - categorical_accuracy: 0.9991 - precision: 0.9991 - recall: 0.9991 - auc: 0.9995 - val_loss: 0.0617 - val_categorical_accuracy: 0.9935 - val_precision: 0.9935 - val_recall: 0.9933 - val_auc: 0.9987\n",
      "Epoch 51/120\n",
      "469/468 [==============================] - 32s 68ms/step - loss: 0.0090 - categorical_accuracy: 0.9991 - precision: 0.9991 - recall: 0.9991 - auc: 0.9995 - val_loss: 0.0624 - val_categorical_accuracy: 0.9930 - val_precision: 0.9931 - val_recall: 0.9930 - val_auc: 0.9988\n",
      "Epoch 52/120\n",
      "469/468 [==============================] - 32s 69ms/step - loss: 0.0088 - categorical_accuracy: 0.9991 - precision: 0.9991 - recall: 0.9991 - auc: 0.9995 - val_loss: 0.0624 - val_categorical_accuracy: 0.9933 - val_precision: 0.9933 - val_recall: 0.9932 - val_auc: 0.9988\n",
      "Epoch 53/120\n",
      "469/468 [==============================] - 32s 68ms/step - loss: 0.0093 - categorical_accuracy: 0.9991 - precision: 0.9991 - recall: 0.9991 - auc: 0.9995 - val_loss: 0.0661 - val_categorical_accuracy: 0.9932 - val_precision: 0.9932 - val_recall: 0.9931 - val_auc: 0.9987\n",
      "Epoch 54/120\n",
      "469/468 [==============================] - 32s 69ms/step - loss: 0.0089 - categorical_accuracy: 0.9991 - precision: 0.9991 - recall: 0.9991 - auc: 0.9995 - val_loss: 0.0624 - val_categorical_accuracy: 0.9930 - val_precision: 0.9934 - val_recall: 0.9929 - val_auc: 0.9988\n",
      "Epoch 55/120\n",
      "469/468 [==============================] - 32s 69ms/step - loss: 0.0088 - categorical_accuracy: 0.9991 - precision: 0.9991 - recall: 0.9991 - auc: 0.9995 - val_loss: 0.0629 - val_categorical_accuracy: 0.9930 - val_precision: 0.9932 - val_recall: 0.9930 - val_auc: 0.9986\n",
      "Epoch 56/120\n",
      "469/468 [==============================] - 32s 69ms/step - loss: 0.0086 - categorical_accuracy: 0.9991 - precision: 0.9991 - recall: 0.9991 - auc: 0.9995 - val_loss: 0.0632 - val_categorical_accuracy: 0.9932 - val_precision: 0.9932 - val_recall: 0.9932 - val_auc: 0.9987\n",
      "Epoch 57/120\n",
      "469/468 [==============================] - 32s 68ms/step - loss: 0.0085 - categorical_accuracy: 0.9991 - precision: 0.9991 - recall: 0.9991 - auc: 0.9995 - val_loss: 0.0612 - val_categorical_accuracy: 0.9937 - val_precision: 0.9937 - val_recall: 0.9936 - val_auc: 0.9987\n"
     ]
    },
    {
     "name": "stdout",
     "output_type": "stream",
     "text": [
      "Epoch 58/120\n",
      "469/468 [==============================] - 30s 65ms/step - loss: 0.0085 - categorical_accuracy: 0.9991 - precision: 0.9991 - recall: 0.9991 - auc: 0.9995 - val_loss: 0.0623 - val_categorical_accuracy: 0.9934 - val_precision: 0.9934 - val_recall: 0.9933 - val_auc: 0.9987\n",
      "Epoch 59/120\n",
      "469/468 [==============================] - 30s 65ms/step - loss: 0.0086 - categorical_accuracy: 0.9991 - precision: 0.9991 - recall: 0.9991 - auc: 0.9995 - val_loss: 0.0629 - val_categorical_accuracy: 0.9934 - val_precision: 0.9934 - val_recall: 0.9934 - val_auc: 0.9985\n",
      "Epoch 60/120\n",
      "469/468 [==============================] - 30s 65ms/step - loss: 0.0086 - categorical_accuracy: 0.9991 - precision: 0.9991 - recall: 0.9991 - auc: 0.9995 - val_loss: 0.0624 - val_categorical_accuracy: 0.9934 - val_precision: 0.9934 - val_recall: 0.9934 - val_auc: 0.9986\n",
      "Epoch 61/120\n",
      "469/468 [==============================] - 30s 65ms/step - loss: 0.0087 - categorical_accuracy: 0.9991 - precision: 0.9991 - recall: 0.9991 - auc: 0.9995 - val_loss: 0.0621 - val_categorical_accuracy: 0.9933 - val_precision: 0.9935 - val_recall: 0.9933 - val_auc: 0.9987\n",
      "Epoch 62/120\n",
      "469/468 [==============================] - 31s 65ms/step - loss: 0.0086 - categorical_accuracy: 0.9991 - precision: 0.9991 - recall: 0.9991 - auc: 0.9995 - val_loss: 0.0631 - val_categorical_accuracy: 0.9932 - val_precision: 0.9933 - val_recall: 0.9931 - val_auc: 0.9986\n",
      "Epoch 63/120\n",
      "469/468 [==============================] - 30s 65ms/step - loss: 0.0085 - categorical_accuracy: 0.9991 - precision: 0.9991 - recall: 0.9991 - auc: 0.9995 - val_loss: 0.0629 - val_categorical_accuracy: 0.9930 - val_precision: 0.9931 - val_recall: 0.9929 - val_auc: 0.9986\n",
      "Epoch 64/120\n",
      "469/468 [==============================] - 31s 65ms/step - loss: 0.0085 - categorical_accuracy: 0.9991 - precision: 0.9991 - recall: 0.9991 - auc: 0.9995 - val_loss: 0.0623 - val_categorical_accuracy: 0.9934 - val_precision: 0.9934 - val_recall: 0.9932 - val_auc: 0.9986\n",
      "Epoch 65/120\n",
      "469/468 [==============================] - 30s 65ms/step - loss: 0.0086 - categorical_accuracy: 0.9991 - precision: 0.9991 - recall: 0.9991 - auc: 0.9995 - val_loss: 0.0606 - val_categorical_accuracy: 0.9940 - val_precision: 0.9942 - val_recall: 0.9940 - val_auc: 0.9986\n",
      "Epoch 66/120\n",
      "469/468 [==============================] - 31s 65ms/step - loss: 0.0085 - categorical_accuracy: 0.9991 - precision: 0.9991 - recall: 0.9991 - auc: 0.9995 - val_loss: 0.0623 - val_categorical_accuracy: 0.9936 - val_precision: 0.9937 - val_recall: 0.9936 - val_auc: 0.9987\n",
      "Epoch 67/120\n",
      "469/468 [==============================] - 30s 65ms/step - loss: 0.0086 - categorical_accuracy: 0.9991 - precision: 0.9991 - recall: 0.9991 - auc: 0.9995 - val_loss: 0.0604 - val_categorical_accuracy: 0.9935 - val_precision: 0.9936 - val_recall: 0.9934 - val_auc: 0.9989\n",
      "Epoch 68/120\n",
      "469/468 [==============================] - 31s 65ms/step - loss: 0.0085 - categorical_accuracy: 0.9991 - precision: 0.9991 - recall: 0.9991 - auc: 0.9995 - val_loss: 0.0611 - val_categorical_accuracy: 0.9935 - val_precision: 0.9936 - val_recall: 0.9935 - val_auc: 0.9988\n",
      "Epoch 69/120\n",
      "469/468 [==============================] - 31s 65ms/step - loss: 0.0088 - categorical_accuracy: 0.9991 - precision: 0.9991 - recall: 0.9991 - auc: 0.9995 - val_loss: 0.0619 - val_categorical_accuracy: 0.9934 - val_precision: 0.9937 - val_recall: 0.9934 - val_auc: 0.9988\n",
      "Epoch 70/120\n",
      "469/468 [==============================] - 31s 65ms/step - loss: 0.0085 - categorical_accuracy: 0.9991 - precision: 0.9991 - recall: 0.9991 - auc: 0.9995 - val_loss: 0.0617 - val_categorical_accuracy: 0.9935 - val_precision: 0.9936 - val_recall: 0.9934 - val_auc: 0.9987\n",
      "Epoch 71/120\n",
      "469/468 [==============================] - 31s 65ms/step - loss: 0.0085 - categorical_accuracy: 0.9991 - precision: 0.9991 - recall: 0.9991 - auc: 0.9995 - val_loss: 0.0624 - val_categorical_accuracy: 0.9933 - val_precision: 0.9934 - val_recall: 0.9932 - val_auc: 0.9988\n",
      "Epoch 72/120\n",
      "469/468 [==============================] - 31s 65ms/step - loss: 0.0085 - categorical_accuracy: 0.9991 - precision: 0.9991 - recall: 0.9991 - auc: 0.9995 - val_loss: 0.0625 - val_categorical_accuracy: 0.9934 - val_precision: 0.9935 - val_recall: 0.9933 - val_auc: 0.9988\n",
      "Epoch 73/120\n",
      "469/468 [==============================] - 31s 65ms/step - loss: 0.0085 - categorical_accuracy: 0.9991 - precision: 0.9991 - recall: 0.9991 - auc: 0.9995 - val_loss: 0.0621 - val_categorical_accuracy: 0.9932 - val_precision: 0.9934 - val_recall: 0.9932 - val_auc: 0.9987\n",
      "Epoch 74/120\n",
      "469/468 [==============================] - 31s 65ms/step - loss: 0.0085 - categorical_accuracy: 0.9991 - precision: 0.9991 - recall: 0.9991 - auc: 0.9995 - val_loss: 0.0630 - val_categorical_accuracy: 0.9930 - val_precision: 0.9932 - val_recall: 0.9930 - val_auc: 0.9988\n",
      "Epoch 75/120\n",
      "469/468 [==============================] - 31s 65ms/step - loss: 0.0085 - categorical_accuracy: 0.9991 - precision: 0.9991 - recall: 0.9991 - auc: 0.9995 - val_loss: 0.0633 - val_categorical_accuracy: 0.9932 - val_precision: 0.9934 - val_recall: 0.9931 - val_auc: 0.9988\n",
      "Epoch 76/120\n",
      "469/468 [==============================] - 30s 65ms/step - loss: 0.0085 - categorical_accuracy: 0.9991 - precision: 0.9991 - recall: 0.9991 - auc: 0.9995 - val_loss: 0.0628 - val_categorical_accuracy: 0.9932 - val_precision: 0.9934 - val_recall: 0.9932 - val_auc: 0.9988\n",
      "Epoch 77/120\n",
      "469/468 [==============================] - 30s 65ms/step - loss: 0.0085 - categorical_accuracy: 0.9991 - precision: 0.9991 - recall: 0.9991 - auc: 0.9995 - val_loss: 0.0623 - val_categorical_accuracy: 0.9934 - val_precision: 0.9936 - val_recall: 0.9934 - val_auc: 0.9987\n",
      "Epoch 78/120\n",
      "469/468 [==============================] - 30s 65ms/step - loss: 0.0084 - categorical_accuracy: 0.9991 - precision: 0.9991 - recall: 0.9991 - auc: 0.9995 - val_loss: 0.0635 - val_categorical_accuracy: 0.9931 - val_precision: 0.9932 - val_recall: 0.9930 - val_auc: 0.9987\n",
      "Epoch 79/120\n",
      "469/468 [==============================] - 31s 65ms/step - loss: 0.0084 - categorical_accuracy: 0.9991 - precision: 0.9991 - recall: 0.9991 - auc: 0.9995 - val_loss: 0.0639 - val_categorical_accuracy: 0.9931 - val_precision: 0.9932 - val_recall: 0.9930 - val_auc: 0.9987\n",
      "Epoch 80/120\n",
      "469/468 [==============================] - 31s 65ms/step - loss: 0.0084 - categorical_accuracy: 0.9991 - precision: 0.9991 - recall: 0.9991 - auc: 0.9995 - val_loss: 0.0662 - val_categorical_accuracy: 0.9928 - val_precision: 0.9929 - val_recall: 0.9927 - val_auc: 0.9987\n",
      "Epoch 81/120\n",
      "469/468 [==============================] - 31s 65ms/step - loss: 0.0084 - categorical_accuracy: 0.9991 - precision: 0.9991 - recall: 0.9991 - auc: 0.9995 - val_loss: 0.0628 - val_categorical_accuracy: 0.9934 - val_precision: 0.9934 - val_recall: 0.9934 - val_auc: 0.9988\n",
      "Epoch 82/120\n",
      "469/468 [==============================] - 31s 65ms/step - loss: 0.0083 - categorical_accuracy: 0.9991 - precision: 0.9991 - recall: 0.9991 - auc: 0.9995 - val_loss: 0.0639 - val_categorical_accuracy: 0.9932 - val_precision: 0.9933 - val_recall: 0.9932 - val_auc: 0.9987\n",
      "Epoch 83/120\n",
      "469/468 [==============================] - 31s 65ms/step - loss: 0.0083 - categorical_accuracy: 0.9991 - precision: 0.9991 - recall: 0.9991 - auc: 0.9995 - val_loss: 0.0630 - val_categorical_accuracy: 0.9935 - val_precision: 0.9935 - val_recall: 0.9934 - val_auc: 0.9988\n",
      "Epoch 84/120\n",
      "469/468 [==============================] - 31s 66ms/step - loss: 0.0083 - categorical_accuracy: 0.9991 - precision: 0.9991 - recall: 0.9991 - auc: 0.9995 - val_loss: 0.0634 - val_categorical_accuracy: 0.9935 - val_precision: 0.9936 - val_recall: 0.9934 - val_auc: 0.9988\n",
      "Epoch 85/120\n",
      "469/468 [==============================] - 31s 66ms/step - loss: 0.0083 - categorical_accuracy: 0.9991 - precision: 0.9991 - recall: 0.9991 - auc: 0.9995 - val_loss: 0.0632 - val_categorical_accuracy: 0.9934 - val_precision: 0.9934 - val_recall: 0.9933 - val_auc: 0.9988\n",
      "Epoch 86/120\n",
      "469/468 [==============================] - 31s 66ms/step - loss: 0.0083 - categorical_accuracy: 0.9991 - precision: 0.9991 - recall: 0.9991 - auc: 0.9995 - val_loss: 0.0638 - val_categorical_accuracy: 0.9935 - val_precision: 0.9935 - val_recall: 0.9935 - val_auc: 0.9988\n"
     ]
    },
    {
     "name": "stdout",
     "output_type": "stream",
     "text": [
      "Epoch 87/120\n",
      "469/468 [==============================] - 29s 63ms/step - loss: 0.0084 - categorical_accuracy: 0.9991 - precision: 0.9991 - recall: 0.9991 - auc: 0.9995 - val_loss: 0.0620 - val_categorical_accuracy: 0.9936 - val_precision: 0.9936 - val_recall: 0.9936 - val_auc: 0.9988\n",
      "Epoch 88/120\n",
      "469/468 [==============================] - 29s 62ms/step - loss: 0.0084 - categorical_accuracy: 0.9991 - precision: 0.9991 - recall: 0.9991 - auc: 0.9995 - val_loss: 0.0635 - val_categorical_accuracy: 0.9932 - val_precision: 0.9932 - val_recall: 0.9932 - val_auc: 0.9988\n",
      "Epoch 89/120\n",
      "469/468 [==============================] - 29s 63ms/step - loss: 0.0083 - categorical_accuracy: 0.9991 - precision: 0.9991 - recall: 0.9991 - auc: 0.9995 - val_loss: 0.0632 - val_categorical_accuracy: 0.9934 - val_precision: 0.9935 - val_recall: 0.9934 - val_auc: 0.9988\n",
      "Epoch 90/120\n",
      "469/468 [==============================] - 29s 62ms/step - loss: 0.0083 - categorical_accuracy: 0.9991 - precision: 0.9991 - recall: 0.9991 - auc: 0.9995 - val_loss: 0.0635 - val_categorical_accuracy: 0.9933 - val_precision: 0.9934 - val_recall: 0.9933 - val_auc: 0.9989\n",
      "Epoch 91/120\n",
      "469/468 [==============================] - 30s 63ms/step - loss: 0.0083 - categorical_accuracy: 0.9991 - precision: 0.9991 - recall: 0.9991 - auc: 0.9995 - val_loss: 0.0627 - val_categorical_accuracy: 0.9933 - val_precision: 0.9934 - val_recall: 0.9933 - val_auc: 0.9988\n",
      "Epoch 92/120\n",
      "469/468 [==============================] - 30s 63ms/step - loss: 0.0083 - categorical_accuracy: 0.9991 - precision: 0.9991 - recall: 0.9991 - auc: 0.9995 - val_loss: 0.0632 - val_categorical_accuracy: 0.9933 - val_precision: 0.9934 - val_recall: 0.9933 - val_auc: 0.9988\n",
      "Epoch 93/120\n",
      "469/468 [==============================] - 29s 62ms/step - loss: 0.0083 - categorical_accuracy: 0.9991 - precision: 0.9991 - recall: 0.9991 - auc: 0.9995 - val_loss: 0.0627 - val_categorical_accuracy: 0.9933 - val_precision: 0.9934 - val_recall: 0.9933 - val_auc: 0.9989\n",
      "Epoch 94/120\n",
      "469/468 [==============================] - 29s 63ms/step - loss: 0.0083 - categorical_accuracy: 0.9991 - precision: 0.9991 - recall: 0.9991 - auc: 0.9995 - val_loss: 0.0621 - val_categorical_accuracy: 0.9933 - val_precision: 0.9935 - val_recall: 0.9933 - val_auc: 0.9988\n",
      "Epoch 95/120\n",
      "469/468 [==============================] - 29s 63ms/step - loss: 0.0082 - categorical_accuracy: 0.9991 - precision: 0.9991 - recall: 0.9991 - auc: 0.9995 - val_loss: 0.0613 - val_categorical_accuracy: 0.9934 - val_precision: 0.9936 - val_recall: 0.9934 - val_auc: 0.9988\n",
      "Epoch 96/120\n",
      "469/468 [==============================] - 29s 63ms/step - loss: 0.0082 - categorical_accuracy: 0.9991 - precision: 0.9991 - recall: 0.9991 - auc: 0.9995 - val_loss: 0.0622 - val_categorical_accuracy: 0.9932 - val_precision: 0.9933 - val_recall: 0.9931 - val_auc: 0.9988\n",
      "Epoch 97/120\n",
      "469/468 [==============================] - 29s 62ms/step - loss: 0.0081 - categorical_accuracy: 0.9991 - precision: 0.9991 - recall: 0.9991 - auc: 0.9995 - val_loss: 0.0630 - val_categorical_accuracy: 0.9930 - val_precision: 0.9933 - val_recall: 0.9930 - val_auc: 0.9987\n",
      "Epoch 98/120\n",
      "469/468 [==============================] - 29s 62ms/step - loss: 0.0083 - categorical_accuracy: 0.9991 - precision: 0.9991 - recall: 0.9991 - auc: 0.9995 - val_loss: 0.0629 - val_categorical_accuracy: 0.9932 - val_precision: 0.9933 - val_recall: 0.9931 - val_auc: 0.9987\n",
      "Epoch 99/120\n",
      "469/468 [==============================] - 29s 62ms/step - loss: 0.0082 - categorical_accuracy: 0.9991 - precision: 0.9992 - recall: 0.9991 - auc: 0.9995 - val_loss: 0.0657 - val_categorical_accuracy: 0.9931 - val_precision: 0.9932 - val_recall: 0.9931 - val_auc: 0.9987\n",
      "Epoch 100/120\n",
      "469/468 [==============================] - 29s 62ms/step - loss: 0.0081 - categorical_accuracy: 0.9991 - precision: 0.9991 - recall: 0.9991 - auc: 0.9995 - val_loss: 0.0646 - val_categorical_accuracy: 0.9930 - val_precision: 0.9932 - val_recall: 0.9930 - val_auc: 0.9987\n",
      "Epoch 101/120\n",
      "469/468 [==============================] - 29s 62ms/step - loss: 0.0080 - categorical_accuracy: 0.9991 - precision: 0.9991 - recall: 0.9991 - auc: 0.9995 - val_loss: 0.0639 - val_categorical_accuracy: 0.9932 - val_precision: 0.9933 - val_recall: 0.9931 - val_auc: 0.9986\n",
      "Epoch 102/120\n",
      "469/468 [==============================] - 29s 62ms/step - loss: 0.0081 - categorical_accuracy: 0.9991 - precision: 0.9991 - recall: 0.9991 - auc: 0.9995 - val_loss: 0.0638 - val_categorical_accuracy: 0.9932 - val_precision: 0.9933 - val_recall: 0.9931 - val_auc: 0.9988\n",
      "Epoch 103/120\n",
      "469/468 [==============================] - 29s 62ms/step - loss: 0.0080 - categorical_accuracy: 0.9991 - precision: 0.9991 - recall: 0.9991 - auc: 0.9995 - val_loss: 0.0634 - val_categorical_accuracy: 0.9933 - val_precision: 0.9934 - val_recall: 0.9932 - val_auc: 0.9988\n",
      "Epoch 104/120\n",
      "469/468 [==============================] - 29s 62ms/step - loss: 0.0080 - categorical_accuracy: 0.9991 - precision: 0.9991 - recall: 0.9991 - auc: 0.9995 - val_loss: 0.0638 - val_categorical_accuracy: 0.9931 - val_precision: 0.9932 - val_recall: 0.9930 - val_auc: 0.9987\n",
      "Epoch 105/120\n",
      "469/468 [==============================] - 29s 62ms/step - loss: 0.0080 - categorical_accuracy: 0.9991 - precision: 0.9991 - recall: 0.9991 - auc: 0.9995 - val_loss: 0.0642 - val_categorical_accuracy: 0.9932 - val_precision: 0.9933 - val_recall: 0.9931 - val_auc: 0.9987\n",
      "Epoch 106/120\n",
      "469/468 [==============================] - 29s 62ms/step - loss: 0.0080 - categorical_accuracy: 0.9991 - precision: 0.9992 - recall: 0.9991 - auc: 0.9995 - val_loss: 0.0639 - val_categorical_accuracy: 0.9932 - val_precision: 0.9933 - val_recall: 0.9931 - val_auc: 0.9987\n",
      "Epoch 107/120\n",
      "469/468 [==============================] - 29s 62ms/step - loss: 0.0080 - categorical_accuracy: 0.9991 - precision: 0.9991 - recall: 0.9991 - auc: 0.9995 - val_loss: 0.0638 - val_categorical_accuracy: 0.9932 - val_precision: 0.9932 - val_recall: 0.9931 - val_auc: 0.9987\n",
      "Epoch 108/120\n",
      "469/468 [==============================] - 29s 62ms/step - loss: 0.0080 - categorical_accuracy: 0.9991 - precision: 0.9991 - recall: 0.9991 - auc: 0.9995 - val_loss: 0.0640 - val_categorical_accuracy: 0.9932 - val_precision: 0.9932 - val_recall: 0.9931 - val_auc: 0.9986\n",
      "Epoch 109/120\n",
      "469/468 [==============================] - 29s 62ms/step - loss: 0.0080 - categorical_accuracy: 0.9991 - precision: 0.9991 - recall: 0.9991 - auc: 0.9995 - val_loss: 0.0649 - val_categorical_accuracy: 0.9930 - val_precision: 0.9931 - val_recall: 0.9929 - val_auc: 0.9987\n",
      "Epoch 110/120\n",
      "469/468 [==============================] - 29s 62ms/step - loss: 0.0080 - categorical_accuracy: 0.9991 - precision: 0.9992 - recall: 0.9991 - auc: 0.9995 - val_loss: 0.0657 - val_categorical_accuracy: 0.9930 - val_precision: 0.9930 - val_recall: 0.9928 - val_auc: 0.9988\n",
      "Epoch 111/120\n",
      "469/468 [==============================] - 29s 62ms/step - loss: 0.0081 - categorical_accuracy: 0.9991 - precision: 0.9991 - recall: 0.9991 - auc: 0.9995 - val_loss: 0.0638 - val_categorical_accuracy: 0.9932 - val_precision: 0.9933 - val_recall: 0.9931 - val_auc: 0.9987\n",
      "Epoch 112/120\n",
      "469/468 [==============================] - 29s 62ms/step - loss: 0.0080 - categorical_accuracy: 0.9991 - precision: 0.9991 - recall: 0.9991 - auc: 0.9996 - val_loss: 0.0640 - val_categorical_accuracy: 0.9934 - val_precision: 0.9934 - val_recall: 0.9933 - val_auc: 0.9988\n",
      "Epoch 113/120\n",
      "469/468 [==============================] - 29s 62ms/step - loss: 0.0080 - categorical_accuracy: 0.9991 - precision: 0.9991 - recall: 0.9991 - auc: 0.9995 - val_loss: 0.0638 - val_categorical_accuracy: 0.9932 - val_precision: 0.9932 - val_recall: 0.9931 - val_auc: 0.9987\n",
      "Epoch 114/120\n",
      "469/468 [==============================] - 29s 62ms/step - loss: 0.0080 - categorical_accuracy: 0.9991 - precision: 0.9991 - recall: 0.9991 - auc: 0.9996 - val_loss: 0.0643 - val_categorical_accuracy: 0.9932 - val_precision: 0.9932 - val_recall: 0.9931 - val_auc: 0.9987\n",
      "Epoch 115/120\n",
      "469/468 [==============================] - 29s 62ms/step - loss: 0.0079 - categorical_accuracy: 0.9991 - precision: 0.9992 - recall: 0.9991 - auc: 0.9995 - val_loss: 0.0644 - val_categorical_accuracy: 0.9933 - val_precision: 0.9934 - val_recall: 0.9932 - val_auc: 0.9988\n"
     ]
    },
    {
     "name": "stdout",
     "output_type": "stream",
     "text": [
      "Epoch 116/120\n",
      "469/468 [==============================] - 29s 62ms/step - loss: 0.0079 - categorical_accuracy: 0.9992 - precision: 0.9992 - recall: 0.9992 - auc: 0.9995 - val_loss: 0.0646 - val_categorical_accuracy: 0.9934 - val_precision: 0.9935 - val_recall: 0.9933 - val_auc: 0.9987\n",
      "Epoch 117/120\n",
      "469/468 [==============================] - 29s 62ms/step - loss: 0.0079 - categorical_accuracy: 0.9992 - precision: 0.9992 - recall: 0.9992 - auc: 0.9996 - val_loss: 0.0651 - val_categorical_accuracy: 0.9934 - val_precision: 0.9937 - val_recall: 0.9934 - val_auc: 0.9987\n",
      "Epoch 118/120\n",
      "469/468 [==============================] - 29s 62ms/step - loss: 0.0079 - categorical_accuracy: 0.9992 - precision: 0.9992 - recall: 0.9992 - auc: 0.9996 - val_loss: 0.0647 - val_categorical_accuracy: 0.9934 - val_precision: 0.9936 - val_recall: 0.9934 - val_auc: 0.9988\n",
      "Epoch 119/120\n",
      "469/468 [==============================] - 29s 62ms/step - loss: 0.0078 - categorical_accuracy: 0.9992 - precision: 0.9992 - recall: 0.9992 - auc: 0.9996 - val_loss: 0.0649 - val_categorical_accuracy: 0.9934 - val_precision: 0.9935 - val_recall: 0.9934 - val_auc: 0.9987\n",
      "Epoch 120/120\n",
      "469/468 [==============================] - 29s 62ms/step - loss: 0.0078 - categorical_accuracy: 0.9992 - precision: 0.9992 - recall: 0.9992 - auc: 0.9996 - val_loss: 0.0646 - val_categorical_accuracy: 0.9933 - val_precision: 0.9935 - val_recall: 0.9933 - val_auc: 0.9987\n",
      "-----------------------------------------------------\n",
      "Categorical Accuracy :  0.9933000206947327 \n",
      "\n",
      "Precision :  0.993498682975769 \n",
      "\n",
      "Recall :  0.9933000206947327 \n",
      "\n",
      "F1 score  :  0.9987463355064392 \n",
      "\n",
      "AUC score  :  0.9933993419030162 \n",
      "\n"
     ]
    },
    {
     "data": {
      "image/png": "[encoded data removed]",
      "text/plain": [
       "<Figure size 864x360 with 2 Axes>"
      ]
     },
     "metadata": {},
     "output_type": "display_data"
    }
   ],
   "source": [
    "sce_pipeline.sce_train(x_train, y_train, x_test, y_test, batch_size=128, epochs=120, alpha = 0.01, beta = 1.0)"
   ]
  },
  {
   "cell_type": "code",
   "execution_count": null,
   "id": "64861b69",
   "metadata": {},
   "outputs": [],
   "source": []
  }
 ],
 "metadata": {
  "kernelspec": {
   "display_name": "Python 3 (ipykernel)",
   "language": "python",
   "name": "python3"
  },
  "language_info": {
   "codemirror_mode": {
    "name": "ipython",
    "version": 3
   },
   "file_extension": ".py",
   "mimetype": "text/x-python",
   "name": "python",
   "nbconvert_exporter": "python",
   "pygments_lexer": "ipython3",
   "version": "3.8.11"
  }
 },
 "nbformat": 4,
 "nbformat_minor": 5
}

{
 "cells": [
  {
   "cell_type": "code",
   "execution_count": 1,
   "id": "ba625740",
   "metadata": {},
   "outputs": [
    {
     "name": "stdout",
     "output_type": "stream",
     "text": [
      "importing Jupyter notebook from svm_pipeline.ipynb\n",
      "a\n"
     ]
    }
   ],
   "source": [
    "import numpy as np\n",
    "import pandas as pd\n",
    "from sklearn.model_selection import train_test_split\n",
    "from sklearn.model_selection import validation_curve\n",
    "from sklearn.model_selection import cross_val_score\n",
    "import matplotlib.pyplot as plt\n",
    "import seaborn as sns\n",
    "from keras.datasets import mnist\n",
    "from sklearn.preprocessing import scale\n",
    "import import_ipynb\n",
    "import svm_pipeline\n",
    "\n",
    "\n",
    "\n"
   ]
  },
  {
   "cell_type": "code",
   "execution_count": 2,
   "id": "3928e342",
   "metadata": {},
   "outputs": [],
   "source": [
    "(x_train_balanced, y_train_balanced), (x_test, y_test) = mnist.load_data()\n"
   ]
  },
  {
   "cell_type": "code",
   "execution_count": 3,
   "id": "228bc6d5",
   "metadata": {},
   "outputs": [],
   "source": [
    "y_train_balanced_asym = np.load('../datasets/y_train_balanced_asym.npy')\n"
   ]
  },
  {
   "cell_type": "code",
   "execution_count": 4,
   "id": "9edf778c",
   "metadata": {},
   "outputs": [],
   "source": [
    "#reshaping\n",
    "x_train_balanced = x_train_balanced.reshape(len(x_train_balanced),-1)\n",
    "x_test = x_test.reshape(len(x_test),-1)\n"
   ]
  },
  {
   "cell_type": "code",
   "execution_count": 5,
   "id": "a94c212c",
   "metadata": {},
   "outputs": [],
   "source": [
    "x_train_balanced = x_train_balanced/255.0\n",
    "x_test = x_test/255.0\n",
    "\n",
    "x_train_balanced = scale(x_train_balanced)\n",
    "x_test = scale(x_test)"
   ]
  },
  {
   "cell_type": "code",
   "execution_count": 6,
   "id": "b0b02981",
   "metadata": {},
   "outputs": [
    {
     "name": "stdout",
     "output_type": "stream",
     "text": [
      "[{'C': [1, 5], 'degree': [1, 3]}]\n",
      "Training started at : 11:54:24\n",
      "Fitting 2 folds for each of 4 candidates, totalling 8 fits\n",
      "[CV] END ......................................C=1, degree=1; total time=29.3min\n",
      "[CV] END ......................................C=1, degree=1; total time=29.1min\n",
      "[CV] END ......................................C=1, degree=3; total time=61.7min\n",
      "[CV] END ......................................C=1, degree=3; total time=60.0min\n",
      "[CV] END ......................................C=5, degree=1; total time=25.0min\n",
      "[CV] END ......................................C=5, degree=1; total time=25.4min\n",
      "[CV] END ......................................C=5, degree=3; total time=46.0min\n",
      "[CV] END ......................................C=5, degree=3; total time=45.6min\n",
      "The best test score is 0.7539166666666667 corresponding to hyperparameters {'C': 5, 'degree': 3}\n",
      "Accuracy :  0.8738 \n",
      "\n",
      "Precision :  0.8738 \n",
      "\n",
      "Recall :  0.8738 \n",
      "\n",
      "F1 score  :  0.8738 \n",
      "\n",
      "AUC score  :  0.9899168264379082 \n",
      "\n",
      "Training Stopped at : 20:24:54\n",
      "Total time taken in mins:  510.49588915904366\n"
     ]
    }
   ],
   "source": [
    "svm_pipeline.apply_svm(x_train_balanced,x_test,y_train_balanced_asym,y_test,'poly',2,[ {'C': [1,5],\n",
    "              'degree': [1,3],}])\n",
    "              \n"
   ]
  },
  {
   "cell_type": "code",
   "execution_count": null,
   "id": "f5fc8166",
   "metadata": {},
   "outputs": [],
   "source": []
  }
 ],
 "metadata": {
  "kernelspec": {
   "display_name": "Python 3",
   "language": "python",
   "name": "python3"
  },
  "language_info": {
   "codemirror_mode": {
    "name": "ipython",
    "version": 3
   },
   "file_extension": ".py",
   "mimetype": "text/x-python",
   "name": "python",
   "nbconvert_exporter": "python",
   "pygments_lexer": "ipython3",
   "version": "3.8.8"
  }
 },
 "nbformat": 4,
 "nbformat_minor": 5
}

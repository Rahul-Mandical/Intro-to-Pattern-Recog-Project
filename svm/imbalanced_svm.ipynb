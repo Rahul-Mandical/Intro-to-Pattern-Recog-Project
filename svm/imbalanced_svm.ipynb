{
 "cells": [
  {
   "cell_type": "code",
   "execution_count": 1,
   "id": "3b150382",
   "metadata": {},
   "outputs": [
    {
     "name": "stdout",
     "output_type": "stream",
     "text": [
      "importing Jupyter notebook from svm_pipeline.ipynb\n",
      "a\n"
     ]
    }
   ],
   "source": [
    "import numpy as np\n",
    "import pandas as pd\n",
    "from sklearn.model_selection import train_test_split\n",
    "from sklearn.model_selection import validation_curve\n",
    "from sklearn.model_selection import cross_val_score\n",
    "import matplotlib.pyplot as plt\n",
    "import seaborn as sns\n",
    "from keras.datasets import mnist\n",
    "from sklearn.preprocessing import scale\n",
    "import import_ipynb\n",
    "import svm_pipeline\n",
    "\n",
    "\n",
    "\n"
   ]
  },
  {
   "cell_type": "code",
   "execution_count": 2,
   "id": "dddf7449",
   "metadata": {},
   "outputs": [],
   "source": [
    "(x_train_balanced, y_train_balanced), (x_test, y_test) = mnist.load_data()\n"
   ]
  },
  {
   "cell_type": "code",
   "execution_count": 3,
   "id": "d3957c38",
   "metadata": {},
   "outputs": [],
   "source": [
    "x_train_imbalanced = np.load('../datasets/x_train_imbalanced.npy')\n",
    "y_train_imbalanced = np.load('../datasets/y_train_imbalanced.npy')"
   ]
  },
  {
   "cell_type": "code",
   "execution_count": 4,
   "id": "58f5a403",
   "metadata": {},
   "outputs": [],
   "source": [
    "#reshaping\n",
    "x_train_imbalanced = x_train_imbalanced.reshape(len(x_train_imbalanced),-1)\n",
    "x_test = x_test.reshape(len(x_test),-1)\n"
   ]
  },
  {
   "cell_type": "code",
   "execution_count": 5,
   "id": "8f5d8f11",
   "metadata": {},
   "outputs": [],
   "source": [
    "x_train_imbalanced = x_train_imbalanced/255.0\n",
    "x_test = x_test/255.0\n",
    "\n",
    "x_train_imbalanced = scale(x_train_imbalanced)\n",
    "x_test = scale(x_test)"
   ]
  },
  {
   "cell_type": "code",
   "execution_count": 7,
   "id": "e056cf3d",
   "metadata": {},
   "outputs": [
    {
     "name": "stdout",
     "output_type": "stream",
     "text": [
      "[{'C': [5], 'gamma': [0.01, 0.001]}]\n",
      "Training started at : 10:09:25\n",
      "Fitting 2 folds for each of 2 candidates, totalling 4 fits\n",
      "[CV] END ....................................C=5, gamma=0.01; total time=45.0min\n",
      "[CV] END ....................................C=5, gamma=0.01; total time=43.9min\n",
      "[CV] END ...................................C=5, gamma=0.001; total time= 8.2min\n",
      "[CV] END ...................................C=5, gamma=0.001; total time= 8.0min\n",
      "The best test score is 0.9574895443539511 corresponding to hyperparameters {'C': 5, 'gamma': 0.001}\n",
      "Accuracy :  0.9622 \n",
      "\n",
      "Precision :  0.9622 \n",
      "\n",
      "Recall :  0.9622 \n",
      "\n",
      "F1 score  :  0.9622 \n",
      "\n",
      "AUC score  :  0.9989082297869858 \n",
      "\n",
      "Training Stopped at : 12:29:37\n",
      "Total time taken in mins:  140.19117130835852\n"
     ]
    }
   ],
   "source": [
    "svm_pipeline.apply_svm(x_train_imbalanced,x_test,y_train_imbalanced,y_test,'rbf',2,[ {'C': [5],\n",
    "              'gamma': [0.01,0.001],}])"
   ]
  },
  {
   "cell_type": "code",
   "execution_count": 9,
   "id": "0ed463d8",
   "metadata": {},
   "outputs": [
    {
     "name": "stdout",
     "output_type": "stream",
     "text": [
      "[{'C': [1, 5], 'degree': [1, 3]}]\n",
      "Training started at : 12:52:47\n",
      "Fitting 2 folds for each of 4 candidates, totalling 8 fits\n",
      "[CV] END ......................................C=1, degree=1; total time= 6.1min\n",
      "[CV] END ......................................C=1, degree=1; total time= 6.0min\n",
      "[CV] END ......................................C=1, degree=3; total time=19.9min\n",
      "[CV] END ......................................C=1, degree=3; total time=20.2min\n",
      "[CV] END ......................................C=5, degree=1; total time= 4.5min\n",
      "[CV] END ......................................C=5, degree=1; total time= 4.5min\n",
      "[CV] END ......................................C=5, degree=3; total time=13.8min\n",
      "[CV] END ......................................C=5, degree=3; total time=13.8min\n",
      "The best test score is 0.9580123266563945 corresponding to hyperparameters {'C': 5, 'degree': 3}\n",
      "Accuracy :  0.9605 \n",
      "\n",
      "Precision :  0.9605 \n",
      "\n",
      "Recall :  0.9605 \n",
      "\n",
      "F1 score  :  0.9605 \n",
      "\n",
      "AUC score  :  0.9981979597311937 \n",
      "\n",
      "Training Stopped at : 15:13:15\n",
      "Total time taken in mins:  140.4737399260203\n"
     ]
    }
   ],
   "source": [
    "svm_pipeline.apply_svm(x_train_imbalanced,x_test,y_train_imbalanced,y_test,'poly',2,[ {'C': [1,5],\n",
    "              'degree': [1,3],}])"
   ]
  },
  {
   "cell_type": "code",
   "execution_count": null,
   "id": "52171db5",
   "metadata": {},
   "outputs": [],
   "source": []
  }
 ],
 "metadata": {
  "kernelspec": {
   "display_name": "Python 3",
   "language": "python",
   "name": "python3"
  },
  "language_info": {
   "codemirror_mode": {
    "name": "ipython",
    "version": 3
   },
   "file_extension": ".py",
   "mimetype": "text/x-python",
   "name": "python",
   "nbconvert_exporter": "python",
   "pygments_lexer": "ipython3",
   "version": "3.8.8"
  }
 },
 "nbformat": 4,
 "nbformat_minor": 5
}
